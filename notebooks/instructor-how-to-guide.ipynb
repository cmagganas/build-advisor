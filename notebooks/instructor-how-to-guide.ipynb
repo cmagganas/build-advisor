{
 "cells": [
  {
   "cell_type": "code",
   "execution_count": null,
   "metadata": {},
   "outputs": [],
   "source": [
    "!pip install instructor jsonref"
   ]
  },
  {
   "cell_type": "code",
   "execution_count": 1,
   "metadata": {},
   "outputs": [
    {
     "name": "stderr",
     "output_type": "stream",
     "text": [
      "/home/cmagganas/anaconda3/envs/alpha-ideator/lib/python3.11/site-packages/tqdm/auto.py:21: TqdmWarning: IProgress not found. Please update jupyter and ipywidgets. See https://ipywidgets.readthedocs.io/en/stable/user_install.html\n",
      "  from .autonotebook import tqdm as notebook_tqdm\n"
     ]
    }
   ],
   "source": [
    "from dotenv import load_dotenv\n",
    "import instructor\n",
    "from openai import OpenAI\n",
    "import os\n",
    "from pydantic import BaseModel\n",
    "\n",
    "load_dotenv()\n",
    "\n",
    "# Patch the OpenAI client with Instructor\n",
    "client = instructor.from_openai(OpenAI(api_key=os.environ['OPENAI_API_KEY']))\n",
    "\n",
    "class UserDetail(BaseModel):\n",
    "    name: str\n",
    "    age: int\n",
    "\n",
    "# Function to extract user details\n",
    "def extract_user() -> UserDetail:\n",
    "    user = client.chat.completions.create(\n",
    "        model=\"gpt-4-turbo-preview\",\n",
    "        response_model=UserDetail,\n",
    "        messages=[\n",
    "            {\"role\": \"user\", \"content\": \"Extract Jason is 25 years old\"},\n",
    "        ]\n",
    "    )\n",
    "    return user"
   ]
  },
  {
   "cell_type": "code",
   "execution_count": 2,
   "metadata": {},
   "outputs": [
    {
     "data": {
      "text/plain": [
       "UserDetail(name='Jason', age=25)"
      ]
     },
     "execution_count": 2,
     "metadata": {},
     "output_type": "execute_result"
    }
   ],
   "source": [
    "extract_user()"
   ]
  },
  {
   "cell_type": "code",
   "execution_count": null,
   "metadata": {},
   "outputs": [],
   "source": [
    "import instructor\n",
    "\n",
    "from instructor import Partial\n",
    "from openai import OpenAI\n",
    "from pydantic import BaseModel\n",
    "from typing import List\n",
    "from rich.console import Console\n",
    "\n",
    "client = instructor.from_openai(OpenAI())\n",
    "\n",
    "text_block = \"...\"\n",
    "\n",
    "class User(BaseModel):\n",
    "    name: str\n",
    "    email: str\n",
    "    twitter: str\n",
    "\n",
    "\n",
    "class MeetingInfo(BaseModel):\n",
    "    users: List[User]\n",
    "    date: str\n",
    "    location: str\n",
    "    budget: int\n",
    "    deadline: str\n",
    "\n",
    "\n",
    "extraction_stream = client.chat.completions.create(\n",
    "    model=\"gpt-4\",\n",
    "    response_model=Partial[MeetingInfo],\n",
    "    messages=[\n",
    "        {\n",
    "            \"role\": \"user\",\n",
    "            \"content\": f\"Get the information about the meeting and the users {text_block}\",\n",
    "        },\n",
    "    ],\n",
    "    stream=True,\n",
    ")\n",
    "\n",
    "\n",
    "console = Console()\n",
    "\n",
    "for extraction in extraction_stream:\n",
    "    obj = extraction.model_dump()\n",
    "    console.clear()\n",
    "    console.print(obj)"
   ]
  },
  {
   "cell_type": "markdown",
   "metadata": {},
   "source": [
    "### prompt enrichment"
   ]
  },
  {
   "cell_type": "code",
   "execution_count": 5,
   "metadata": {},
   "outputs": [
    {
     "data": {
      "text/plain": [
       "ProblemCategorization(problem='building ai apps', category='Technology Development', industry='Software')"
      ]
     },
     "execution_count": 5,
     "metadata": {},
     "output_type": "execute_result"
    }
   ],
   "source": [
    "class ProblemCategorization(BaseModel):\n",
    "    problem: str\n",
    "    category: str\n",
    "    industry: str\n",
    "\n",
    "# Function to extract prompt category\n",
    "def extract_category() -> UserDetail:\n",
    "    user = client.chat.completions.create(\n",
    "        model=\"gpt-4-turbo-preview\",\n",
    "        response_model=ProblemCategorization,\n",
    "        messages=[\n",
    "            {\"role\": \"user\", \"content\": \"I want to solve my problem of building ai apps which takes a long time as I am unfamiliar with which tools I should use/start with first.\"},\n",
    "        ]\n",
    "    )\n",
    "    return user\n",
    "\n",
    "extract_category()"
   ]
  },
  {
   "cell_type": "code",
   "execution_count": null,
   "metadata": {},
   "outputs": [],
   "source": [
    "\n",
    "\n",
    "class ProblemOntology(BaseModel):\n",
    "    problem: str\n",
    "    category: str\n",
    "    industry: str\n",
    "\n",
    "class ProblemOntology(BaseModel):\n",
    "    problem: str\n",
    "    category: str\n",
    "    industry: str\n",
    "\n",
    "# Function to extract prompt category\n",
    "def extract_category() -> UserDetail:\n",
    "    user = client.chat.completions.create(\n",
    "        model=\"gpt-4-turbo-preview\",\n",
    "        response_model=ProblemCategorization,\n",
    "        messages=[\n",
    "            {\"role\": \"user\", \"content\": \"I want to solve my problem of building ai apps which takes a long time as I am unfamiliar with which tools I should use/start with first.\"},\n",
    "        ]\n",
    "    )\n",
    "    return user\n",
    "\n",
    "extract_category()"
   ]
  }
 ],
 "metadata": {
  "kernelspec": {
   "display_name": "alpha-ideator",
   "language": "python",
   "name": "python3"
  },
  "language_info": {
   "codemirror_mode": {
    "name": "ipython",
    "version": 3
   },
   "file_extension": ".py",
   "mimetype": "text/x-python",
   "name": "python",
   "nbconvert_exporter": "python",
   "pygments_lexer": "ipython3",
   "version": "3.11.9"
  }
 },
 "nbformat": 4,
 "nbformat_minor": 2
}
