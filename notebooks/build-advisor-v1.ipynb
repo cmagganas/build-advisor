{
 "cells": [
  {
   "cell_type": "markdown",
   "metadata": {},
   "source": [
    "### imports"
   ]
  },
  {
   "cell_type": "code",
   "execution_count": 3,
   "metadata": {},
   "outputs": [
    {
     "data": {
      "text/plain": [
       "True"
      ]
     },
     "execution_count": 3,
     "metadata": {},
     "output_type": "execute_result"
    }
   ],
   "source": [
    "import instructor\n",
    "from openai import OpenAI\n",
    "import os\n",
    "from pydantic import BaseModel, Field\n",
    "from dotenv import load_dotenv\n",
    "\n",
    "load_dotenv()"
   ]
  },
  {
   "cell_type": "markdown",
   "metadata": {},
   "source": [
    "### load instructor and openai"
   ]
  },
  {
   "cell_type": "code",
   "execution_count": 4,
   "metadata": {},
   "outputs": [],
   "source": [
    "# Patch the OpenAI client with Instructor\n",
    "client = instructor.from_openai(OpenAI(api_key=os.environ['OPENAI_API_KEY']))"
   ]
  },
  {
   "cell_type": "markdown",
   "metadata": {},
   "source": [
    "### user query/proposal idea 💡"
   ]
  },
  {
   "cell_type": "code",
   "execution_count": 5,
   "metadata": {},
   "outputs": [],
   "source": [
    "user_proposal = input(\"Please enter the ai app you'd like to develop and the problem you are trying to solve:\")"
   ]
  },
  {
   "cell_type": "code",
   "execution_count": 6,
   "metadata": {},
   "outputs": [
    {
     "name": "stdout",
     "output_type": "stream",
     "text": [
      "I want to create a portfolio chatbot that answers questions about my experience and qualifications for a role that I might be applying to\n"
     ]
    }
   ],
   "source": [
    "print(user_proposal)"
   ]
  },
  {
   "cell_type": "markdown",
   "metadata": {},
   "source": [
    "### BizDev #0 - Build X, get $ in Q1 and $$ in Y1 🤑"
   ]
  },
  {
   "cell_type": "code",
   "execution_count": 11,
   "metadata": {},
   "outputs": [],
   "source": [
    "prompt_0 = \"You are a Business Development Specialist. For a given user input, you are going to search your knowledge base for similar project and project\"\n",
    "\n",
    "class BizDev(BaseModel):\n",
    "    impact: str = Field(desription=\"Provide an estimate of how much project revenue this proposal will make in the next quarter as well as in the next year. Use your knowledge base to provide similar examples, provide reasoning and cite your sources.\")\n",
    "    dollars_projected_q1: float = Field(desription=\"How many dollars (USD) is this project projected to gross in the first quarter (Q1)?\")\n",
    "    dollars_projected_y1: float = Field(desription=\"How many dollars (USD) is this project projected to gross in the first year (Y1)?\")\n",
    "\n",
    "# Function\n",
    "def biz_dev_agent(user_proposal) -> BizDev:\n",
    "    return client.chat.completions.create(\n",
    "        model=\"gpt-4-turbo-preview\",\n",
    "        response_model=BizDev,\n",
    "        messages=[\n",
    "            {\"role\": \"system\", \"content\": prompt_0},\n",
    "            {\"role\": \"user\", \"content\": user_proposal},\n",
    "        ],\n",
    "    )"
   ]
  },
  {
   "cell_type": "code",
   "execution_count": 15,
   "metadata": {},
   "outputs": [
    {
     "data": {
      "text/plain": [
       "BizDez(impact='High', dollars_projected_q1=50000.0, dollars_projected_y1=250000.0)"
      ]
     },
     "execution_count": 15,
     "metadata": {},
     "output_type": "execute_result"
    }
   ],
   "source": [
    "biz_dev_output = biz_dev_agent(user_proposal)\n",
    "biz_dev_output"
   ]
  },
  {
   "cell_type": "code",
   "execution_count": 18,
   "metadata": {},
   "outputs": [
    {
     "data": {
      "text/plain": [
       "\"impact='High' dollars_projected_q1=50000.0 dollars_projected_y1=250000.0\""
      ]
     },
     "execution_count": 18,
     "metadata": {},
     "output_type": "execute_result"
    }
   ],
   "source": [
    "str(biz_dev_output)"
   ]
  },
  {
   "cell_type": "markdown",
   "metadata": {},
   "source": [
    "### PRD #1 - Spec Sheet (PRD) Agent with Key Deliverables (What?) 🎛️"
   ]
  },
  {
   "cell_type": "code",
   "execution_count": 23,
   "metadata": {},
   "outputs": [],
   "source": [
    "prompt_1 = \"You are a Spec Sheet (PRD) Agent. For a given proposal, use your knowledge of how to create a Product Requirements Document (PRD) and the sample examples to write one for the proposal.\"\n",
    "\n",
    "class PRD(BaseModel):\n",
    "    prd: str = Field(desription=\"Write a PRD for this proposal.\")\n",
    "\n",
    "# Function\n",
    "def prd_agent(biz_dev_output):\n",
    "    return client.chat.completions.create(\n",
    "        model=\"gpt-4-turbo-preview\",\n",
    "        response_model=None,\n",
    "        messages=[\n",
    "            {\"role\": \"system\", \"content\": prompt_1},\n",
    "            {\"role\": \"user\", \"content\": user_proposal + str(biz_dev_output)},\n",
    "        ],\n",
    "    )"
   ]
  },
  {
   "cell_type": "code",
   "execution_count": 24,
   "metadata": {},
   "outputs": [
    {
     "name": "stdout",
     "output_type": "stream",
     "text": [
      "ChatCompletion(id='chatcmpl-9mAGL5EGpCWGrLe1dDpvQuLFeSSm3', choices=[Choice(finish_reason='stop', index=0, logprobs=None, message=ChatCompletionMessage(content=\"# Product Requirements Document (PRD) for a Portfolio Chatbot\\n\\n## 1. Purpose\\nThis document outlines the requirements for a portfolio chatbot designed to showcase the experience and qualifications of an individual for particular roles they may be applying to. The chatbot aims to provide interactive, engaging responses to questions from potential employers or clients, highlighting the individual's accomplishments, skills, and professional background.\\n\\n## 2. Scope\\nThe development, deployment, and maintenance of a chatbot on the individual's professional portfolio website and integration with professional social networks such as LinkedIn. The project targets a reduced response time to inquiries and an improved presentation of the candidate's profile, aiming for increased engagement rates.\\n\\n## 3. Objectives\\n- **Engagement Increase**: Enhance user engagement with the individual’s portfolio by providing immediate, relevant responses.\\n- **Qualification Highlighting**: Effectively showcase the individual's skills, experience, and qualifications.\\n- **Accessibility Enhancement**: Ensure the chatbot is accessible to all users, including those with disabilities.\\n- **Cost-Effective Solution**: Deploy a cost-effective solution with a projected budget of $50,000 in Q1 and a total annual budget of $250,000.\\n\\n## 4. Features\\n- **Intuitive Interface**: User-friendly chat interface accessible from the portfolio website and LinkedIn profile.\\n- **Natural Language Processing (NLP)**: Ability to understand and respond intelligently to varied inquiries about the individual’s professional background.\\n- **Customizable Responses**: Tailored responses that can be updated or modified based on new experiences, qualifications, or portfolio updates.\\n- **Professional Tone and Branding**: Maintains a professional tone while incorporating personal branding into responses.\\n- **Analytics Dashboard**: Captures and presents data on user interactions to refine and improve responses and engagement strategies.\\n\\n## 5. Requirements\\n\\n### Functional Requirements\\n1. **User Interaction**:\\n   - The chatbot must be able to initiate conversation with a greeting and ask the user if they have questions about specific qualifications or experiences.\\n   - Ability to handle multiple queries without crashing or losing context.\\n\\n2. **Content Management**:\\n   - Easy-to-use interface for updating the chatbot’s response database with new qualifications, experiences, and personal achievements.\\n   - Mechanism for validating the accuracy of the information before it goes live.\\n\\n3. **Accessibility**:\\n   - Compliance with Web Content Accessibility Guidelines (WCAG) to ensure usability by people with disabilities.\\n\\n### Non-Functional Requirements\\n1. **Performance**:\\n   - Response time should not exceed 2 seconds.\\n   - Must be capable of handling up to 500 simultaneous conversations.\\n\\n2. **Security**:\\n   - Implement standard security measures to protect user data and privacy.\\n   - Regular updates and patches to fix vulnerabilities.\\n\\n3. **Scalability**:\\n   - The solution must be scalable to accommodate growth in user engagement and updates to the individual’s portfolio.\\n\\n### 6. Milestones\\n- **M1** (Weeks 1-4): Requirement Gathering and Design Phase\\n- **M2** (Weeks 5-8): Development and Testing of Core Features\\n- **M3** (Weeks 9-12): Integration with Portfolio Website and LinkedIn\\n- **M4** (Week 13-16): User Testing and Feedback Collection\\n- **M5** (Week 17-20): Final Adjustments and Official Deployment\\n\\n### 7. Budget and Resources\\n- **Total Projected Budget**: $250,000\\n   - **Q1 Budget**: $50,000\\n- **Resources**:\\n   - Project Manager\\n   - Chatbot Developer Team (Front-end and Back-end)\\n   - Quality Assurance Testers\\n   - UX/UI Designer\\n   - Data Analyst\\n\\n### 8. Evaluation and Success Metrics\\n- Increase in engagement on the portfolio website and LinkedIn profile by at least 20%.\\n- Reduction in response time to queries by 40%.\\n- Positive feedback from users, with a user satisfaction rate of over 85%.\\n\\n### 9. Dependencies\\n- Access to a server or cloud service for hosting the chatbot.\\n- Integration capabilities with the existing portfolio website and LinkedIn API.\\n- Ongoing support and maintenance budget post-deployment.\\n\\n### 10. Risk Management\\n- Delays in the development schedule may impact project milestones.\\n- Budget constraints could limit scalability options.\\n- Potential technical challenges in integrating chatbot with existing systems.\\n\\nThis PRD aims to guide the development and successful implementation of the portfolio chatbot, ensuring it meets the desired objectives and provides a strong value proposition to enhance the individual's job application process.\", role='assistant', function_call=None, tool_calls=None))], created=1721266221, model='gpt-4-0125-preview', object='chat.completion', service_tier=None, system_fingerprint=None, usage=CompletionUsage(completion_tokens=939, prompt_tokens=102, total_tokens=1041))\n"
     ]
    }
   ],
   "source": [
    "prd_output = prd_agent(biz_dev_output)\n",
    "print(prd_output)"
   ]
  },
  {
   "cell_type": "code",
   "execution_count": 27,
   "metadata": {},
   "outputs": [
    {
     "name": "stdout",
     "output_type": "stream",
     "text": [
      "# Product Requirements Document (PRD) for a Portfolio Chatbot\n",
      "\n",
      "## 1. Purpose\n",
      "This document outlines the requirements for a portfolio chatbot designed to showcase the experience and qualifications of an individual for particular roles they may be applying to. The chatbot aims to provide interactive, engaging responses to questions from potential employers or clients, highlighting the individual's accomplishments, skills, and professional background.\n",
      "\n",
      "## 2. Scope\n",
      "The development, deployment, and maintenance of a chatbot on the individual's professional portfolio website and integration with professional social networks such as LinkedIn. The project targets a reduced response time to inquiries and an improved presentation of the candidate's profile, aiming for increased engagement rates.\n",
      "\n",
      "## 3. Objectives\n",
      "- **Engagement Increase**: Enhance user engagement with the individual’s portfolio by providing immediate, relevant responses.\n",
      "- **Qualification Highlighting**: Effectively showcase the individual's skills, experience, and qualifications.\n",
      "- **Accessibility Enhancement**: Ensure the chatbot is accessible to all users, including those with disabilities.\n",
      "- **Cost-Effective Solution**: Deploy a cost-effective solution with a projected budget of $50,000 in Q1 and a total annual budget of $250,000.\n",
      "\n",
      "## 4. Features\n",
      "- **Intuitive Interface**: User-friendly chat interface accessible from the portfolio website and LinkedIn profile.\n",
      "- **Natural Language Processing (NLP)**: Ability to understand and respond intelligently to varied inquiries about the individual’s professional background.\n",
      "- **Customizable Responses**: Tailored responses that can be updated or modified based on new experiences, qualifications, or portfolio updates.\n",
      "- **Professional Tone and Branding**: Maintains a professional tone while incorporating personal branding into responses.\n",
      "- **Analytics Dashboard**: Captures and presents data on user interactions to refine and improve responses and engagement strategies.\n",
      "\n",
      "## 5. Requirements\n",
      "\n",
      "### Functional Requirements\n",
      "1. **User Interaction**:\n",
      "   - The chatbot must be able to initiate conversation with a greeting and ask the user if they have questions about specific qualifications or experiences.\n",
      "   - Ability to handle multiple queries without crashing or losing context.\n",
      "\n",
      "2. **Content Management**:\n",
      "   - Easy-to-use interface for updating the chatbot’s response database with new qualifications, experiences, and personal achievements.\n",
      "   - Mechanism for validating the accuracy of the information before it goes live.\n",
      "\n",
      "3. **Accessibility**:\n",
      "   - Compliance with Web Content Accessibility Guidelines (WCAG) to ensure usability by people with disabilities.\n",
      "\n",
      "### Non-Functional Requirements\n",
      "1. **Performance**:\n",
      "   - Response time should not exceed 2 seconds.\n",
      "   - Must be capable of handling up to 500 simultaneous conversations.\n",
      "\n",
      "2. **Security**:\n",
      "   - Implement standard security measures to protect user data and privacy.\n",
      "   - Regular updates and patches to fix vulnerabilities.\n",
      "\n",
      "3. **Scalability**:\n",
      "   - The solution must be scalable to accommodate growth in user engagement and updates to the individual’s portfolio.\n",
      "\n",
      "### 6. Milestones\n",
      "- **M1** (Weeks 1-4): Requirement Gathering and Design Phase\n",
      "- **M2** (Weeks 5-8): Development and Testing of Core Features\n",
      "- **M3** (Weeks 9-12): Integration with Portfolio Website and LinkedIn\n",
      "- **M4** (Week 13-16): User Testing and Feedback Collection\n",
      "- **M5** (Week 17-20): Final Adjustments and Official Deployment\n",
      "\n",
      "### 7. Budget and Resources\n",
      "- **Total Projected Budget**: $250,000\n",
      "   - **Q1 Budget**: $50,000\n",
      "- **Resources**:\n",
      "   - Project Manager\n",
      "   - Chatbot Developer Team (Front-end and Back-end)\n",
      "   - Quality Assurance Testers\n",
      "   - UX/UI Designer\n",
      "   - Data Analyst\n",
      "\n",
      "### 8. Evaluation and Success Metrics\n",
      "- Increase in engagement on the portfolio website and LinkedIn profile by at least 20%.\n",
      "- Reduction in response time to queries by 40%.\n",
      "- Positive feedback from users, with a user satisfaction rate of over 85%.\n",
      "\n",
      "### 9. Dependencies\n",
      "- Access to a server or cloud service for hosting the chatbot.\n",
      "- Integration capabilities with the existing portfolio website and LinkedIn API.\n",
      "- Ongoing support and maintenance budget post-deployment.\n",
      "\n",
      "### 10. Risk Management\n",
      "- Delays in the development schedule may impact project milestones.\n",
      "- Budget constraints could limit scalability options.\n",
      "- Potential technical challenges in integrating chatbot with existing systems.\n",
      "\n",
      "This PRD aims to guide the development and successful implementation of the portfolio chatbot, ensuring it meets the desired objectives and provides a strong value proposition to enhance the individual's job application process.\n"
     ]
    }
   ],
   "source": [
    "print(prd_output.choices[0].message.content)"
   ]
  },
  {
   "cell_type": "code",
   "execution_count": 28,
   "metadata": {},
   "outputs": [],
   "source": [
    "prd_output_content = prd_output.choices[0].message.content"
   ]
  },
  {
   "cell_type": "markdown",
   "metadata": {},
   "source": [
    "### Designer #2 - (Function) (Engineer) (How?) "
   ]
  },
  {
   "cell_type": "code",
   "execution_count": 32,
   "metadata": {},
   "outputs": [
    {
     "name": "stdout",
     "output_type": "stream",
     "text": [
      "ChatCompletion(id='chatcmpl-9mBEcMuU8jtfstyzMNZL0a7WRc6WH', choices=[Choice(finish_reason='stop', index=0, logprobs=None, message=ChatCompletionMessage(content='The provided document is a comprehensive PRD for a portfolio chatbot, effectively outlining key areas such as the purpose, scope, objectives, features, requirements, milestones, budget, evaluation metrics, dependencies, and risk management. Here are some suggestions and additional points that could further refine and enhance the document:\\n\\n1. **Detailed Technical Specifications for NLP**:\\n   - Specify the necessary languages and frameworks (e.g., TensorFlow, PyTorch) for the Natural Language Processing component.\\n   - Include requirements for machine learning model training data, considering privacy and ethical use of data.\\n\\n2. **User Personalization and Adaptation**:\\n   - Detail how the chatbot will adapt over time to provide more personalized responses based on user feedback and interaction patterns.\\n\\n3. **Integration Details with LinkedIn**:\\n   - Specify the process and technical requirements for integrating the chatbot with LinkedIn, including any needed permissions or API limits to be aware of.\\n\\n4. **Security and Privacy Enhancements**:\\n   - Define specific encryption methods for user data protection.\\n   - Outline compliance with GDPR and other relevant privacy regulations, particularly for users in different geographic locations.\\n\\n5. **Extended Testing Plan**:\\n   - Include plans for A/B testing different chatbot responses to refine effectiveness.\\n   - Detail a broader range of user testing, including accessibility testing by individuals with disabilities.\\n\\n6. **Feedback Mechanism for Continuous Improvement**:\\n   - Specify a method for collecting user feedback directly through the chatbot interface.\\n   - Plan for ongoing updates based on feedback and analytics to ensure the chatbot remains effective and relevant.\\n\\n7. **Backup and Recovery**:\\n   - Detail strategies for data backup and recovery in case of system failure, ensuring minimal downtime and data loss.\\n\\n8. **Future Roadmap**:\\n   - Outline potential future enhancements, such as multilingual support or integration with other social networks.\\n   - Include considerations for expanding chatbot capabilities to include voice interactions.\\n\\nIncorporating these additional details will help ensure the chatbot project successfully meets its goals, remains relevant and engaging for users, and aligns with best practices for security, privacy, and user experience.', role='assistant', function_call=None, tool_calls=None))], created=1721269958, model='gpt-4-0125-preview', object='chat.completion', service_tier=None, system_fingerprint=None, usage=CompletionUsage(completion_tokens=430, prompt_tokens=1043, total_tokens=1473))\n"
     ]
    }
   ],
   "source": [
    "prompt_2 = \"You are a the Engineer/Designer Agent a responsible for creating a functional product. For a given proposal and PRD, write the simplest python script to quickly test your PoC. Only output python code and markdown.\"\n",
    "\n",
    "# Function\n",
    "def designer_agent(prd_output_content):\n",
    "    return client.chat.completions.create(\n",
    "        model=\"gpt-4-turbo-preview\",\n",
    "        response_model=None,\n",
    "        messages=[\n",
    "            {\"role\": \"system\", \"content\": prompt_1},\n",
    "            {\"role\": \"user\", \"content\": user_proposal + '\\n' + str(biz_dev_output) + '\\n' + prd_output_content},\n",
    "        ],\n",
    "    )\n",
    "\n",
    "designer_output = designer_agent(prd_output_content)\n",
    "print(designer_output)"
   ]
  },
  {
   "cell_type": "code",
   "execution_count": 33,
   "metadata": {},
   "outputs": [
    {
     "name": "stdout",
     "output_type": "stream",
     "text": [
      "The provided document is a comprehensive PRD for a portfolio chatbot, effectively outlining key areas such as the purpose, scope, objectives, features, requirements, milestones, budget, evaluation metrics, dependencies, and risk management. Here are some suggestions and additional points that could further refine and enhance the document:\n",
      "\n",
      "1. **Detailed Technical Specifications for NLP**:\n",
      "   - Specify the necessary languages and frameworks (e.g., TensorFlow, PyTorch) for the Natural Language Processing component.\n",
      "   - Include requirements for machine learning model training data, considering privacy and ethical use of data.\n",
      "\n",
      "2. **User Personalization and Adaptation**:\n",
      "   - Detail how the chatbot will adapt over time to provide more personalized responses based on user feedback and interaction patterns.\n",
      "\n",
      "3. **Integration Details with LinkedIn**:\n",
      "   - Specify the process and technical requirements for integrating the chatbot with LinkedIn, including any needed permissions or API limits to be aware of.\n",
      "\n",
      "4. **Security and Privacy Enhancements**:\n",
      "   - Define specific encryption methods for user data protection.\n",
      "   - Outline compliance with GDPR and other relevant privacy regulations, particularly for users in different geographic locations.\n",
      "\n",
      "5. **Extended Testing Plan**:\n",
      "   - Include plans for A/B testing different chatbot responses to refine effectiveness.\n",
      "   - Detail a broader range of user testing, including accessibility testing by individuals with disabilities.\n",
      "\n",
      "6. **Feedback Mechanism for Continuous Improvement**:\n",
      "   - Specify a method for collecting user feedback directly through the chatbot interface.\n",
      "   - Plan for ongoing updates based on feedback and analytics to ensure the chatbot remains effective and relevant.\n",
      "\n",
      "7. **Backup and Recovery**:\n",
      "   - Detail strategies for data backup and recovery in case of system failure, ensuring minimal downtime and data loss.\n",
      "\n",
      "8. **Future Roadmap**:\n",
      "   - Outline potential future enhancements, such as multilingual support or integration with other social networks.\n",
      "   - Include considerations for expanding chatbot capabilities to include voice interactions.\n",
      "\n",
      "Incorporating these additional details will help ensure the chatbot project successfully meets its goals, remains relevant and engaging for users, and aligns with best practices for security, privacy, and user experience.\n"
     ]
    }
   ],
   "source": [
    "print(designer_output.choices[0].message.content)\n",
    "# designer_output = designer_output.choices[0].message.content"
   ]
  },
  {
   "cell_type": "code",
   "execution_count": 34,
   "metadata": {},
   "outputs": [],
   "source": [
    "designer_output = designer_output.choices[0].message.content"
   ]
  },
  {
   "cell_type": "markdown",
   "metadata": {},
   "source": [
    "### LLM #3 - Assessor (PROs/CONs) (What & How) (pass ✅ or fail ❌ w/ explanation) "
   ]
  },
  {
   "cell_type": "code",
   "execution_count": 36,
   "metadata": {},
   "outputs": [
    {
     "name": "stdout",
     "output_type": "stream",
     "text": [
      "open_source=False cost_of_implementation=50000.0 cost_of_maintainance=250000.0 partners='LinkedIn' none_of_the_above=False\n"
     ]
    }
   ],
   "source": [
    "prompt_3 = \"You are a the Engineer/Designer Agent a responsible for creating a functional product. For a given proposal and PRD, write the simplest python script to quickly test your PoC. Only output python code and markdown.\"\n",
    "\n",
    "class Assessor(BaseModel):\n",
    "    open_source: bool = Field(desription=\"Open source\")\n",
    "    cost_of_implementation: float = Field(desription=\"Cost of implementation in dollars (USD)\")\n",
    "    cost_of_maintainance: float = Field(desription=\"Cost of maintainance in dollars (USD)\")\n",
    "    partners: str = Field(desription=\"Partners\")\n",
    "    none_of_the_above: bool = Field(desription=\"Does this this project fail to address all of these issues?\")\n",
    "\n",
    "# Function\n",
    "def assessor_agent(designer_output) -> Assessor:\n",
    "    return client.chat.completions.create(\n",
    "        model=\"gpt-4-turbo-preview\",\n",
    "        response_model=Assessor,\n",
    "        messages=[\n",
    "            {\"role\": \"system\", \"content\": prompt_1},\n",
    "            {\"role\": \"user\", \"content\": user_proposal + '\\n' + str(biz_dev_output) + '\\n' + prd_output_content + '\\n' + designer_output},\n",
    "        ],\n",
    "    )\n",
    "\n",
    "assessor_output = assessor_agent(designer_output)\n",
    "print(assessor_output)"
   ]
  },
  {
   "cell_type": "code",
   "execution_count": 41,
   "metadata": {},
   "outputs": [
    {
     "name": "stdout",
     "output_type": "stream",
     "text": [
      "pass_or_fail=False reasoning_for_decision=\"The project has a high overall cost, including implementation and maintenance, which may not be justified without clear benefits from the partnership with LinkedIn or open source contributions. The lack of open source contribution limits community support and innovation. It's advisable to re-evaluate the project's objectives, financial model, and potential ROI before proceeding.\"\n"
     ]
    }
   ],
   "source": [
    "# pass or fail\n",
    "class PassOrFail(BaseModel):\n",
    "    pass_or_fail: bool = Field(desription=\"Pass: True, Fail: False\")\n",
    "    reasoning_for_decision: str = Field(description=\"Reason why project passed or failed.\")\n",
    "\n",
    "# Function\n",
    "def pass_or_fail_agent(assessor_output) -> PassOrFail:\n",
    "    return client.chat.completions.create(\n",
    "        model=\"gpt-4-turbo-preview\",\n",
    "        response_model=PassOrFail,\n",
    "        messages=[\n",
    "            {\"role\": \"system\", \"content\": \"Pass or Fail?\"},\n",
    "            {\"role\": \"user\", \"content\": str(assessor_output)},\n",
    "        ],\n",
    "    )\n",
    "\n",
    "pof_output = pass_or_fail_agent(assessor_output)\n",
    "print(pof_output)"
   ]
  },
  {
   "cell_type": "code",
   "execution_count": 43,
   "metadata": {},
   "outputs": [
    {
     "name": "stdout",
     "output_type": "stream",
     "text": [
      "❌ Fail The project has a high overall cost, including implementation and maintenance, which may not be justified without clear benefits from the partnership with LinkedIn or open source contributions. The lack of open source contribution limits community support and innovation. It's advisable to re-evaluate the project's objectives, financial model, and potential ROI before proceeding.\n"
     ]
    }
   ],
   "source": [
    "if pof_output.pass_or_fail:\n",
    "    # True\n",
    "    print(\"✅ Pass\", pof_output.reasoning_for_decision)\n",
    "else:\n",
    "    print(\"❌ Fail\", pof_output.reasoning_for_decision)\n"
   ]
  },
  {
   "cell_type": "markdown",
   "metadata": {},
   "source": [
    "### PM #4 - Program Manager (Narrative, scrum master)"
   ]
  },
  {
   "cell_type": "code",
   "execution_count": 54,
   "metadata": {},
   "outputs": [],
   "source": [
    "designer_output_content = designer_output"
   ]
  },
  {
   "cell_type": "code",
   "execution_count": 58,
   "metadata": {},
   "outputs": [
    {
     "name": "stdout",
     "output_type": "stream",
     "text": [
      "Response Content: Given the context of creating and refining a portfolio chatbot, the suggestions are prioritized considering the impact on user experience, implementation complexity, and compliance with regulations. Here’s a stack-ranked list based on priority:\n",
      "\n",
      "1. **Security and Privacy Enhancements**\n",
      "   - Ensuring user data protection and compliance with global privacy laws like GDPR is crucial for user trust and legal compliance. High priority due to the critical importance of security and privacy in today’s digital environment.\n",
      "\n",
      "2. **Detailed Technical Specifications for NLP**\n",
      "   - Defining technical specifications is essential for the development process, guiding the team in choosing the right tools and ensuring the chatbot’s effectiveness in understanding and processing user queries. High priority for foundational development.\n",
      "\n",
      "3. **Feedback Mechanism for Continuous Improvement**\n",
      "   - Implementing a structured way to collect user feedback is pivotal for iterative improvements, aligning the chatbot’s performance with user expectations. This is a high-impact, lower-cost improvement enhancing long-term user satisfaction.\n",
      "\n",
      "4. **User Personalization and Adaptation**\n",
      "   - Personalization significantly improves user engagement. By making the chatbot’s responses more tailored over time, you enhance user experience, which is critical for ensuring continued use.\n",
      "\n",
      "5. **Integration Details with LinkedIn**\n",
      "   - Considering the chatbot is for showcasing professional qualifications, seamless LinkedIn integration is vital for fetching real-time data and updates. This requires understanding technical and permission constraints early in the development process.\n",
      "\n",
      "6. **Extended Testing Plan**\n",
      "   - Comprehensive testing, including A/B tests and accessibility considerations, is essential for refining the chatbot’s effectiveness and inclusivity. This ensures a broader acceptance across varied user demographics.\n",
      "\n",
      "7. **Backup and Recovery**\n",
      "   - Implementing robust data protection and recovery strategies is important for business continuity. However, it's a standard procedure that follows established IT practices, making it slightly lower priority compared to items that directly influence user experience and development direction.\n",
      "\n",
      "8. **Future Roadmap**\n",
      "   - While important for long-term planning and stakeholder engagement, detailing a future expansion (like multilingual support or voice interactions) is a lower immediate priority. Initial focus should be on launching a successful, stable version before planning expansions.\n",
      "\n",
      "This prioritization ensures that critical elements like security, technical foundation, and user engagement are addressed first, laying a robust groundwork for the chatbot. Subsequent improvements and expansibilities can be planned post-launch, based on initial user feedback and technological advancements.\n",
      "Program Manager Output:\n",
      " Given the context of creating and refining a portfolio chatbot, the suggestions are prioritized considering the impact on user experience, implementation complexity, and compliance with regulations. Here’s a stack-ranked list based on priority:\n",
      "\n",
      "1. **Security and Privacy Enhancements**\n",
      "   - Ensuring user data protection and compliance with global privacy laws like GDPR is crucial for user trust and legal compliance. High priority due to the critical importance of security and privacy in today’s digital environment.\n",
      "\n",
      "2. **Detailed Technical Specifications for NLP**\n",
      "   - Defining technical specifications is essential for the development process, guiding the team in choosing the right tools and ensuring the chatbot’s effectiveness in understanding and processing user queries. High priority for foundational development.\n",
      "\n",
      "3. **Feedback Mechanism for Continuous Improvement**\n",
      "   - Implementing a structured way to collect user feedback is pivotal for iterative improvements, aligning the chatbot’s performance with user expectations. This is a high-impact, lower-cost improvement enhancing long-term user satisfaction.\n",
      "\n",
      "4. **User Personalization and Adaptation**\n",
      "   - Personalization significantly improves user engagement. By making the chatbot’s responses more tailored over time, you enhance user experience, which is critical for ensuring continued use.\n",
      "\n",
      "5. **Integration Details with LinkedIn**\n",
      "   - Considering the chatbot is for showcasing professional qualifications, seamless LinkedIn integration is vital for fetching real-time data and updates. This requires understanding technical and permission constraints early in the development process.\n",
      "\n",
      "6. **Extended Testing Plan**\n",
      "   - Comprehensive testing, including A/B tests and accessibility considerations, is essential for refining the chatbot’s effectiveness and inclusivity. This ensures a broader acceptance across varied user demographics.\n",
      "\n",
      "7. **Backup and Recovery**\n",
      "   - Implementing robust data protection and recovery strategies is important for business continuity. However, it's a standard procedure that follows established IT practices, making it slightly lower priority compared to items that directly influence user experience and development direction.\n",
      "\n",
      "8. **Future Roadmap**\n",
      "   - While important for long-term planning and stakeholder engagement, detailing a future expansion (like multilingual support or voice interactions) is a lower immediate priority. Initial focus should be on launching a successful, stable version before planning expansions.\n",
      "\n",
      "This prioritization ensures that critical elements like security, technical foundation, and user engagement are addressed first, laying a robust groundwork for the chatbot. Subsequent improvements and expansibilities can be planned post-launch, based on initial user feedback and technological advancements.\n"
     ]
    }
   ],
   "source": [
    "prompt_4 = \"You are a Program Manager. Your tasks include writing narratives, managing scrum processes, and providing clear and concise plans. Consider the cost in terms of time, money, and research for each suggestion. Stack rank them by priority. Do not suggest how to implement them or what tools to use.\"\n",
    "\n",
    "class ProgramManager(BaseModel):\n",
    "    user_prompt: str = Field(description=\"The initial user proposal.\")\n",
    "    system_prompt: str = Field(description=\"System prompt describing the role of the Program Manager.\")\n",
    "    response: str = Field(description=\"The response string containing suggested tasks and reasoning.\")\n",
    "\n",
    "# Function\n",
    "def program_manager_agent(user_prompt: str, designer_output_content: str): # -> ProgramManager:\n",
    "    response = client.chat.completions.create(\n",
    "        model=\"gpt-4-turbo-preview\",\n",
    "        response_model=None,\n",
    "        messages=[\n",
    "            {\"role\": \"system\", \"content\": prompt_4},\n",
    "            {\"role\": \"user\", \"content\": user_prompt + '\\n' + designer_output_content},\n",
    "        ],\n",
    "    )\n",
    "    \n",
    "    response_content = response.choices[0].message.content.strip()\n",
    "    print(\"Response Content:\", response_content)\n",
    "    \n",
    "    return response_content\n",
    "\n",
    "# Example usage\n",
    "pm_output = program_manager_agent(user_proposal, designer_output_content)\n",
    "print(\"Program Manager Output:\\n\", pm_output)\n",
    "\n",
    "# %%\n",
    "# print(pm_output.model_dump_json(indent=4))"
   ]
  }
 ],
 "metadata": {
  "kernelspec": {
   "display_name": "ba",
   "language": "python",
   "name": "python3"
  },
  "language_info": {
   "codemirror_mode": {
    "name": "ipython",
    "version": 3
   },
   "file_extension": ".py",
   "mimetype": "text/x-python",
   "name": "python",
   "nbconvert_exporter": "python",
   "pygments_lexer": "ipython3",
   "version": "3.11.9"
  }
 },
 "nbformat": 4,
 "nbformat_minor": 2
}
