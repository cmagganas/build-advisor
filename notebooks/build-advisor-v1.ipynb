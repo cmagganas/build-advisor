{
 "cells": [
  {
   "cell_type": "markdown",
   "metadata": {},
   "source": [
    "### imports"
   ]
  },
  {
   "cell_type": "code",
   "execution_count": 4,
   "metadata": {},
   "outputs": [
    {
     "data": {
      "text/plain": [
       "True"
      ]
     },
     "execution_count": 4,
     "metadata": {},
     "output_type": "execute_result"
    }
   ],
   "source": [
    "import instructor\n",
    "from openai import OpenAI\n",
    "import os\n",
    "from pydantic import BaseModel, Field\n",
    "from dotenv import load_dotenv\n",
    "\n",
    "load_dotenv()"
   ]
  },
  {
   "cell_type": "markdown",
   "metadata": {},
   "source": [
    "### load instructor and openai"
   ]
  },
  {
   "cell_type": "code",
   "execution_count": 5,
   "metadata": {},
   "outputs": [],
   "source": [
    "# Patch the OpenAI client with Instructor\n",
    "client = instructor.from_openai(OpenAI(api_key=os.environ['OPENAI_API_KEY']))"
   ]
  },
  {
   "cell_type": "markdown",
   "metadata": {},
   "source": [
    "### user query/proposal idea 💡"
   ]
  },
  {
   "cell_type": "code",
   "execution_count": 6,
   "metadata": {},
   "outputs": [],
   "source": [
    "user_proposal = input(\"Please enter the ai app you'd like to develop and the problem you are trying to solve:\")"
   ]
  },
  {
   "cell_type": "code",
   "execution_count": 7,
   "metadata": {},
   "outputs": [
    {
     "name": "stdout",
     "output_type": "stream",
     "text": [
      "I want to create a portfolio chatbot that answers questions about my experience and qualifications for a role that I might be applying to\n"
     ]
    }
   ],
   "source": [
    "print(user_proposal)"
   ]
  },
  {
   "cell_type": "markdown",
   "metadata": {},
   "source": [
    "### BizDev #0 - Build X, get $ in Q1 and $$ in Y1 🤑"
   ]
  },
  {
   "cell_type": "code",
   "execution_count": 8,
   "metadata": {},
   "outputs": [],
   "source": [
    "prompt_0 = \"You are a Business Development Specialist. For a given user input, you are going to search your knowledge base for similar project and project\"\n",
    "\n",
    "class BizDev(BaseModel):\n",
    "    impact: str = Field(desription=\"Provide an estimate of how much project revenue this proposal will make in the next quarter as well as in the next year. Use your knowledge base to provide similar examples, provide reasoning and cite your sources.\")\n",
    "    dollars_projected_q1: float = Field(desription=\"How many dollars (USD) is this project projected to gross in the first quarter (Q1)?\")\n",
    "    dollars_projected_y1: float = Field(desription=\"How many dollars (USD) is this project projected to gross in the first year (Y1)?\")\n",
    "\n",
    "# Function\n",
    "def biz_dev_agent(user_proposal) -> BizDev:\n",
    "    return client.chat.completions.create(\n",
    "        model=\"gpt-4-turbo-preview\",\n",
    "        response_model=BizDev,\n",
    "        messages=[\n",
    "            {\"role\": \"system\", \"content\": prompt_0},\n",
    "            {\"role\": \"user\", \"content\": user_proposal},\n",
    "        ],\n",
    "    )"
   ]
  },
  {
   "cell_type": "code",
   "execution_count": 9,
   "metadata": {},
   "outputs": [
    {
     "data": {
      "text/plain": [
       "BizDev(impact='Automating responses to common questions about my qualifications and experience can significantly enhance my job application process by making information readily available to prospective employers or recruiters. This immediate access to relevant details could improve my chances of landing interviews and ultimately job offers, as it demonstrates both my technical capabilities and initiative. Additionally, integrating this chatbot into my personal website or professional profiles can increase engagement and showcase my skill set more effectively.', dollars_projected_q1=0.0, dollars_projected_y1=0.0)"
      ]
     },
     "execution_count": 9,
     "metadata": {},
     "output_type": "execute_result"
    }
   ],
   "source": [
    "biz_dev_output = biz_dev_agent(user_proposal)\n",
    "biz_dev_output"
   ]
  },
  {
   "cell_type": "code",
   "execution_count": 10,
   "metadata": {},
   "outputs": [
    {
     "data": {
      "text/plain": [
       "\"impact='Automating responses to common questions about my qualifications and experience can significantly enhance my job application process by making information readily available to prospective employers or recruiters. This immediate access to relevant details could improve my chances of landing interviews and ultimately job offers, as it demonstrates both my technical capabilities and initiative. Additionally, integrating this chatbot into my personal website or professional profiles can increase engagement and showcase my skill set more effectively.' dollars_projected_q1=0.0 dollars_projected_y1=0.0\""
      ]
     },
     "execution_count": 10,
     "metadata": {},
     "output_type": "execute_result"
    }
   ],
   "source": [
    "str(biz_dev_output)"
   ]
  },
  {
   "cell_type": "markdown",
   "metadata": {},
   "source": [
    "### PRD #1 - Spec Sheet (PRD) Agent with Key Deliverables (What?) 🎛️"
   ]
  },
  {
   "cell_type": "code",
   "execution_count": 11,
   "metadata": {},
   "outputs": [],
   "source": [
    "prompt_1 = \"You are a Spec Sheet (PRD) Agent. For a given proposal, use your knowledge of how to create a Product Requirements Document (PRD) and the sample examples to write one for the proposal.\"\n",
    "\n",
    "class PRD(BaseModel):\n",
    "    prd: str = Field(desription=\"Write a PRD for this proposal.\")\n",
    "\n",
    "# Function\n",
    "def prd_agent(biz_dev_output):\n",
    "    return client.chat.completions.create(\n",
    "        model=\"gpt-4-turbo-preview\",\n",
    "        response_model=None,\n",
    "        messages=[\n",
    "            {\"role\": \"system\", \"content\": prompt_1},\n",
    "            {\"role\": \"user\", \"content\": user_proposal + str(biz_dev_output)},\n",
    "        ],\n",
    "    )"
   ]
  },
  {
   "cell_type": "code",
   "execution_count": 12,
   "metadata": {},
   "outputs": [
    {
     "name": "stdout",
     "output_type": "stream",
     "text": [
      "ChatCompletion(id='chatcmpl-9mQ5VIdgvfu6VWjGEagavSNguFexm', choices=[Choice(finish_reason='stop', index=0, logprobs=None, message=ChatCompletionMessage(content=\"# Product Requirements Document (PRD) for a Portfolio Chatbot\\n\\n## 1. Product Overview\\n\\n**Product Name:** Portfolio Chatbot\\n\\n**Product Description:** A chatbot designed to answer questions about an individual's experience, qualifications, and professional background to support their job application process. This tool will provide an interactive and engaging way for prospective employers or recruiters to learn about a candidate's profile by integrating with personal websites or professional platforms.\\n\\n**Objective:** To automate responses to common questions regarding the candidate's qualifications and experience, thereby enhancing the job application process and increasing the chances of securing interviews and job offers through immediate, engaging interaction.\\n\\n**Target Audience:** Prospective employers, recruiters, and anyone interested in learning more about the candidate's professional background.\\n\\n**Key Features:**\\n- Automated responses to predefined questions about qualifications and experience.\\n- Integration capabilities with personal websites and professional platforms (e.g., LinkedIn).\\n- User-friendly interface for both desktop and mobile users.\\n- Ability to learn from interactions to improve response quality over time.\\n- Customization options to tailor responses and interactions according to specific job application needs.\\n\\n## 2. Market Analysis\\n\\n**Impact**: By providing instant access to relevant details about the candidate's qualifications and experience, the Portfolio Chatbot aims to streamline the information-gathering process for prospective employers or recruiters, potentially improving the candidate's chances of progressing through the hiring process.\\n\\n**Competition**: While there are generic chatbot solutions available, a customized Portfolio Chatboy specifically designed to highlight a candidate's professional journey sets itself apart by offering personalized and relevant information directly related to the job application process.\\n\\n## 3. Strategies\\n\\n**Go-to-Market Strategy**: Leverage professional and personal networks to introduce the Portfolio Chatbot, highlighting its benefits and unique value proposition. Utilize social media platforms and professional forums to showcase its capabilities and engage potential users. Offer demos or trial periods for early adopters.\\n\\n**Monetization Strategy**: Initially, the product will be offered for free to build a user base and gather feedback. Long-term monetization could include premium features for advanced customization, analytics, or integration options.\\n\\n## 4. Implementation Phases\\n\\n### Phase 1: Development\\n- Define the initial set of questions and answers that the chatbot will cover, focusing on common inquiries by employers/recruiters.\\n- Develop integration capabilities with at least one professional platform and personal websites, ensuring compatibility and seamless user experience.\\n- Implement an easy-to-use chat interface that works on both desktop and mobile browsers.\\n\\n### Phase 2: Launch\\n- Beta-test the chatbot with a small group of users to collect feedback on user experience, response accuracy, and overall satisfaction.\\n- Use the feedback to refine the chatbot's responses and functionalities.\\n- Officially launch the Portfolio Chatbot on personal websites and professional profiles.\\n\\n### Phase 3: Enhancement and Growth\\n- Regularly update the chatbot’s response database to reflect the candidate's latest achievements and experiences.\\n- Explore opportunities for integration with additional professional platforms.\\n- Implement machine learning algorithms to improve the chatbot’s ability to generate relevant responses based on user interaction patterns.\\n\\n## 5. Technical Requirements\\n\\n**Technology Stack:** \\n- AI and natural language processing (NLP) engine for understanding user inquiries and generating accurate responses.\\n- Web development framework (e.g., ReactJS for frontend, Node.js for backend) for chatbot interface integration.\\n- Database management system (e.g., MongoDB) for storing predefined questions and responses, as well as user interaction logs.\\n\\n**Security Measures:**\\n- Implement GDPR compliance measures to protect user data.\\n- Regular security updates and patches for all software components.\\n\\n**Accessibility:**\\n- Ensure the chatbot interface follows WCAG 2.1 guidelines for accessibility.\\n\\n## 6. Success Metrics\\n\\n- User engagement (number of questions asked per session).\\n- Accurate response rate as measured by user feedback.\\n- Increase in website or profile engagement metrics post-implementation.\\n- Feedback from users (prospective employers/recruiters) regarding the usefulness and impact of the chatbot in the job application process.\\n\\n## 7. Budget and Resources\\n\\n**Initial Projected Cost:** Since this project is anticipated to start without immediate revenue generation, initial funding will focus on development, testing, and marketing efforts. Specific budget allocations will be determined based on further analysis of required development resources and marketing strategies.\\n\\n**Team Requirements:**\\n- Project Manager to oversee the project timeline and deliverables.\\n- Developers with experience in AI, NLP, web development, and database management.\\n- UX/UI Designer to ensure a user-friendly chatbot interface.\\n- Marketing Specialist to develop and execute the go-to-market strategy.\\n\\n**Timeline:** The development phase is expected to take 3-6 months, including the initial market analysis, design, development, and testing phases; followed by an ongoing enhancement and growth phase based on user feedback and technological advancements.\\n\\n**ROI Expectation:** While the project's initial goal is not direct revenue generation, the long-term ROI will be evaluated based on the chatbot's ability to improve job application outcomes and potential monetization strategies.\", role='assistant', function_call=None, tool_calls=None))], created=1721327053, model='gpt-4-0125-preview', object='chat.completion', service_tier=None, system_fingerprint=None, usage=CompletionUsage(completion_tokens=1027, prompt_tokens=179, total_tokens=1206))\n"
     ]
    }
   ],
   "source": [
    "prd_output = prd_agent(biz_dev_output)\n",
    "print(prd_output)"
   ]
  },
  {
   "cell_type": "code",
   "execution_count": 13,
   "metadata": {},
   "outputs": [
    {
     "name": "stdout",
     "output_type": "stream",
     "text": [
      "# Product Requirements Document (PRD) for a Portfolio Chatbot\n",
      "\n",
      "## 1. Product Overview\n",
      "\n",
      "**Product Name:** Portfolio Chatbot\n",
      "\n",
      "**Product Description:** A chatbot designed to answer questions about an individual's experience, qualifications, and professional background to support their job application process. This tool will provide an interactive and engaging way for prospective employers or recruiters to learn about a candidate's profile by integrating with personal websites or professional platforms.\n",
      "\n",
      "**Objective:** To automate responses to common questions regarding the candidate's qualifications and experience, thereby enhancing the job application process and increasing the chances of securing interviews and job offers through immediate, engaging interaction.\n",
      "\n",
      "**Target Audience:** Prospective employers, recruiters, and anyone interested in learning more about the candidate's professional background.\n",
      "\n",
      "**Key Features:**\n",
      "- Automated responses to predefined questions about qualifications and experience.\n",
      "- Integration capabilities with personal websites and professional platforms (e.g., LinkedIn).\n",
      "- User-friendly interface for both desktop and mobile users.\n",
      "- Ability to learn from interactions to improve response quality over time.\n",
      "- Customization options to tailor responses and interactions according to specific job application needs.\n",
      "\n",
      "## 2. Market Analysis\n",
      "\n",
      "**Impact**: By providing instant access to relevant details about the candidate's qualifications and experience, the Portfolio Chatbot aims to streamline the information-gathering process for prospective employers or recruiters, potentially improving the candidate's chances of progressing through the hiring process.\n",
      "\n",
      "**Competition**: While there are generic chatbot solutions available, a customized Portfolio Chatboy specifically designed to highlight a candidate's professional journey sets itself apart by offering personalized and relevant information directly related to the job application process.\n",
      "\n",
      "## 3. Strategies\n",
      "\n",
      "**Go-to-Market Strategy**: Leverage professional and personal networks to introduce the Portfolio Chatbot, highlighting its benefits and unique value proposition. Utilize social media platforms and professional forums to showcase its capabilities and engage potential users. Offer demos or trial periods for early adopters.\n",
      "\n",
      "**Monetization Strategy**: Initially, the product will be offered for free to build a user base and gather feedback. Long-term monetization could include premium features for advanced customization, analytics, or integration options.\n",
      "\n",
      "## 4. Implementation Phases\n",
      "\n",
      "### Phase 1: Development\n",
      "- Define the initial set of questions and answers that the chatbot will cover, focusing on common inquiries by employers/recruiters.\n",
      "- Develop integration capabilities with at least one professional platform and personal websites, ensuring compatibility and seamless user experience.\n",
      "- Implement an easy-to-use chat interface that works on both desktop and mobile browsers.\n",
      "\n",
      "### Phase 2: Launch\n",
      "- Beta-test the chatbot with a small group of users to collect feedback on user experience, response accuracy, and overall satisfaction.\n",
      "- Use the feedback to refine the chatbot's responses and functionalities.\n",
      "- Officially launch the Portfolio Chatbot on personal websites and professional profiles.\n",
      "\n",
      "### Phase 3: Enhancement and Growth\n",
      "- Regularly update the chatbot’s response database to reflect the candidate's latest achievements and experiences.\n",
      "- Explore opportunities for integration with additional professional platforms.\n",
      "- Implement machine learning algorithms to improve the chatbot’s ability to generate relevant responses based on user interaction patterns.\n",
      "\n",
      "## 5. Technical Requirements\n",
      "\n",
      "**Technology Stack:** \n",
      "- AI and natural language processing (NLP) engine for understanding user inquiries and generating accurate responses.\n",
      "- Web development framework (e.g., ReactJS for frontend, Node.js for backend) for chatbot interface integration.\n",
      "- Database management system (e.g., MongoDB) for storing predefined questions and responses, as well as user interaction logs.\n",
      "\n",
      "**Security Measures:**\n",
      "- Implement GDPR compliance measures to protect user data.\n",
      "- Regular security updates and patches for all software components.\n",
      "\n",
      "**Accessibility:**\n",
      "- Ensure the chatbot interface follows WCAG 2.1 guidelines for accessibility.\n",
      "\n",
      "## 6. Success Metrics\n",
      "\n",
      "- User engagement (number of questions asked per session).\n",
      "- Accurate response rate as measured by user feedback.\n",
      "- Increase in website or profile engagement metrics post-implementation.\n",
      "- Feedback from users (prospective employers/recruiters) regarding the usefulness and impact of the chatbot in the job application process.\n",
      "\n",
      "## 7. Budget and Resources\n",
      "\n",
      "**Initial Projected Cost:** Since this project is anticipated to start without immediate revenue generation, initial funding will focus on development, testing, and marketing efforts. Specific budget allocations will be determined based on further analysis of required development resources and marketing strategies.\n",
      "\n",
      "**Team Requirements:**\n",
      "- Project Manager to oversee the project timeline and deliverables.\n",
      "- Developers with experience in AI, NLP, web development, and database management.\n",
      "- UX/UI Designer to ensure a user-friendly chatbot interface.\n",
      "- Marketing Specialist to develop and execute the go-to-market strategy.\n",
      "\n",
      "**Timeline:** The development phase is expected to take 3-6 months, including the initial market analysis, design, development, and testing phases; followed by an ongoing enhancement and growth phase based on user feedback and technological advancements.\n",
      "\n",
      "**ROI Expectation:** While the project's initial goal is not direct revenue generation, the long-term ROI will be evaluated based on the chatbot's ability to improve job application outcomes and potential monetization strategies.\n"
     ]
    }
   ],
   "source": [
    "print(prd_output.choices[0].message.content)"
   ]
  },
  {
   "cell_type": "code",
   "execution_count": 14,
   "metadata": {},
   "outputs": [],
   "source": [
    "prd_output_content = prd_output.choices[0].message.content"
   ]
  },
  {
   "cell_type": "markdown",
   "metadata": {},
   "source": [
    "### Designer #2 - (Function) (Engineer) (How?) "
   ]
  },
  {
   "cell_type": "code",
   "execution_count": 15,
   "metadata": {},
   "outputs": [
    {
     "name": "stdout",
     "output_type": "stream",
     "text": [
      "ChatCompletion(id='chatcmpl-9mQ6QjVnf8RW0Nv4jyCGZJM3s2dW0', choices=[Choice(finish_reason='stop', index=0, logprobs=None, message=ChatCompletionMessage(content=\"The provided Product Requirements Document (PRD) for the Portfolio Chatbot outlines a comprehensive plan for developing, launching, and enhancing a chatbot designed to answer questions about an individual's professional qualifications and experiences. By automating responses to common inquiries, the chatbot aims to streamline the job application process for both candidates and prospective employers or recruiters.\\n\\nThe document thoroughly details the product overview, including the chatbot's objective, target audience, and key features such as automated responses, integration capabilities, and a user-friendly interface. It addresses the market context, emphasizing the chatbot's potential to improve engagement with professional profiles and its differentiated value in comparison with general chatbot solutions.\\n\\nIn the strategies section, the PRD outlines a go-to-market strategy focused on leveraging networks and social media, along with a monetization strategy that includes adding premium features in the future. The implementation phases are clearly delineated into development, launch, and enhancement stages, specifying tasks such as defining initial questions and answers, beta-testing, and integrating machine learning for improved response accuracy.\\n\\nTechnical requirements are detailed, covering the necessary technology stack, security measures, and accessibility considerations to ensure a wide user base can interact with the chatbot effectively. Success metrics propose a mix of quantitative and qualitative measures to assess the chatbot's impact on the job application process and engagement levels.\\n\\nLastly, the budget and resources section outlines the project's financial considerations and the team composition required for execution, while proposing a timeline and setting expectations for return on investment focused on long-term benefits rather than immediate revenue generation.\\n\\nOverall, the PRD is a solid foundation for developing the Portfolio Chatbot, aiming to enhance job application processes for individuals by leveraging technology for immediate, engaging interactions with potential employers.\", role='assistant', function_call=None, tool_calls=None))], created=1721327110, model='gpt-4-0125-preview', object='chat.completion', service_tier=None, system_fingerprint=None, usage=CompletionUsage(completion_tokens=344, prompt_tokens=1208, total_tokens=1552))\n"
     ]
    }
   ],
   "source": [
    "prompt_2 = \"You are a the Engineer/Designer Agent a responsible for creating a functional product. For a given proposal and PRD, write the simplest python script to quickly test your PoC. Only output python code and markdown.\"\n",
    "\n",
    "# Function\n",
    "def designer_agent(prd_output_content):\n",
    "    return client.chat.completions.create(\n",
    "        model=\"gpt-4-turbo-preview\",\n",
    "        response_model=None,\n",
    "        messages=[\n",
    "            {\"role\": \"system\", \"content\": prompt_1},\n",
    "            {\"role\": \"user\", \"content\": user_proposal + '\\n' + str(biz_dev_output) + '\\n' + prd_output_content},\n",
    "        ],\n",
    "    )\n",
    "\n",
    "designer_output = designer_agent(prd_output_content)\n",
    "print(designer_output)"
   ]
  },
  {
   "cell_type": "code",
   "execution_count": 16,
   "metadata": {},
   "outputs": [
    {
     "name": "stdout",
     "output_type": "stream",
     "text": [
      "The provided Product Requirements Document (PRD) for the Portfolio Chatbot outlines a comprehensive plan for developing, launching, and enhancing a chatbot designed to answer questions about an individual's professional qualifications and experiences. By automating responses to common inquiries, the chatbot aims to streamline the job application process for both candidates and prospective employers or recruiters.\n",
      "\n",
      "The document thoroughly details the product overview, including the chatbot's objective, target audience, and key features such as automated responses, integration capabilities, and a user-friendly interface. It addresses the market context, emphasizing the chatbot's potential to improve engagement with professional profiles and its differentiated value in comparison with general chatbot solutions.\n",
      "\n",
      "In the strategies section, the PRD outlines a go-to-market strategy focused on leveraging networks and social media, along with a monetization strategy that includes adding premium features in the future. The implementation phases are clearly delineated into development, launch, and enhancement stages, specifying tasks such as defining initial questions and answers, beta-testing, and integrating machine learning for improved response accuracy.\n",
      "\n",
      "Technical requirements are detailed, covering the necessary technology stack, security measures, and accessibility considerations to ensure a wide user base can interact with the chatbot effectively. Success metrics propose a mix of quantitative and qualitative measures to assess the chatbot's impact on the job application process and engagement levels.\n",
      "\n",
      "Lastly, the budget and resources section outlines the project's financial considerations and the team composition required for execution, while proposing a timeline and setting expectations for return on investment focused on long-term benefits rather than immediate revenue generation.\n",
      "\n",
      "Overall, the PRD is a solid foundation for developing the Portfolio Chatbot, aiming to enhance job application processes for individuals by leveraging technology for immediate, engaging interactions with potential employers.\n"
     ]
    }
   ],
   "source": [
    "print(designer_output.choices[0].message.content)\n",
    "# designer_output = designer_output.choices[0].message.content"
   ]
  },
  {
   "cell_type": "code",
   "execution_count": 17,
   "metadata": {},
   "outputs": [],
   "source": [
    "designer_output = designer_output.choices[0].message.content"
   ]
  },
  {
   "cell_type": "markdown",
   "metadata": {},
   "source": [
    "### Assessor #3 - Assessor (PROs/CONs) (What & How) (pass ✅ or fail ❌ w/ explanation) "
   ]
  },
  {
   "cell_type": "code",
   "execution_count": 18,
   "metadata": {},
   "outputs": [
    {
     "name": "stdout",
     "output_type": "stream",
     "text": [
      "open_source=True cost_of_implementation=5000.0 cost_of_maintainance=500.0 partners='None' none_of_the_above=False\n"
     ]
    }
   ],
   "source": [
    "prompt_3 = \"You are a the Engineer/Designer Agent a responsible for creating a functional product. For a given proposal and PRD, write the simplest python script to quickly test your PoC. Only output python code and markdown.\"\n",
    "\n",
    "class Assessor(BaseModel):\n",
    "    open_source: bool = Field(desription=\"Open source\")\n",
    "    cost_of_implementation: float = Field(desription=\"Cost of implementation in dollars (USD)\")\n",
    "    cost_of_maintainance: float = Field(desription=\"Cost of maintainance in dollars (USD)\")\n",
    "    partners: str = Field(desription=\"Partners\")\n",
    "    none_of_the_above: bool = Field(desription=\"Does this this project fail to address all of these issues?\")\n",
    "\n",
    "# Function\n",
    "def assessor_agent(designer_output) -> Assessor:\n",
    "    return client.chat.completions.create(\n",
    "        model=\"gpt-4-turbo-preview\",\n",
    "        response_model=Assessor,\n",
    "        messages=[\n",
    "            {\"role\": \"system\", \"content\": prompt_1},\n",
    "            {\"role\": \"user\", \"content\": user_proposal + '\\n' + str(biz_dev_output) + '\\n' + prd_output_content + '\\n' + designer_output},\n",
    "        ],\n",
    "    )\n",
    "\n",
    "assessor_output = assessor_agent(designer_output)\n",
    "print(assessor_output)"
   ]
  },
  {
   "cell_type": "code",
   "execution_count": 19,
   "metadata": {},
   "outputs": [
    {
     "name": "stdout",
     "output_type": "stream",
     "text": [
      "pass_or_fail=False reasoning_for_decision=\"The project exceeds the budget constraints outlined, with a combined implementation and maintenance cost that surpasses the financial resources allocated for this purpose. Furthermore, the absence of partners could place additional strain on the project's sustainability and successful implementation.\"\n"
     ]
    }
   ],
   "source": [
    "# pass or fail\n",
    "class PassOrFail(BaseModel):\n",
    "    pass_or_fail: bool = Field(desription=\"Pass: True, Fail: False\")\n",
    "    reasoning_for_decision: str = Field(description=\"Reason why project passed or failed.\")\n",
    "\n",
    "# Function\n",
    "def pass_or_fail_agent(assessor_output) -> PassOrFail:\n",
    "    return client.chat.completions.create(\n",
    "        model=\"gpt-4-turbo-preview\",\n",
    "        response_model=PassOrFail,\n",
    "        messages=[\n",
    "            {\"role\": \"system\", \"content\": \"Pass or Fail?\"},\n",
    "            {\"role\": \"user\", \"content\": str(assessor_output)},\n",
    "        ],\n",
    "    )\n",
    "\n",
    "pof_output = pass_or_fail_agent(assessor_output)\n",
    "print(pof_output)"
   ]
  },
  {
   "cell_type": "code",
   "execution_count": 20,
   "metadata": {},
   "outputs": [
    {
     "name": "stdout",
     "output_type": "stream",
     "text": [
      "❌ Fail The project exceeds the budget constraints outlined, with a combined implementation and maintenance cost that surpasses the financial resources allocated for this purpose. Furthermore, the absence of partners could place additional strain on the project's sustainability and successful implementation.\n"
     ]
    }
   ],
   "source": [
    "if pof_output.pass_or_fail:\n",
    "    # True\n",
    "    print(\"✅ Pass\", pof_output.reasoning_for_decision)\n",
    "else:\n",
    "    print(\"❌ Fail\", pof_output.reasoning_for_decision)\n"
   ]
  },
  {
   "cell_type": "markdown",
   "metadata": {},
   "source": [
    "### PM #4 - Program Manager (Narrative, scrum master)"
   ]
  },
  {
   "cell_type": "code",
   "execution_count": 21,
   "metadata": {},
   "outputs": [],
   "source": [
    "designer_output_content = designer_output"
   ]
  },
  {
   "cell_type": "code",
   "execution_count": 22,
   "metadata": {},
   "outputs": [
    {
     "name": "stdout",
     "output_type": "stream",
     "text": [
      "Response Content: **Stack Ranking of Portfolio Chatbot Development Priorities**\n",
      "\n",
      "1. **Development Phase Tasks**\n",
      "   - **Priority**: High\n",
      "   - **Reason**: The initial set up of questions and answers, programming of automated responses, and integration capabilities are fundamental. Time and research investments are significant, but they establish the foundation for the chatbot. The cost is justified by the necessity of a robust and functional product before any enhancements or marketing efforts.\n",
      "\n",
      "2. **Technical Requirements**\n",
      "   - **Priority**: High\n",
      "   - **Reason**: Ensuring the chatbot is built on a reliable technology stack, is secure, and accessible to a broad audience is crucial. This requires substantial upfront investment in both research and development to adhere to best practices and regulatory standards, impacting the project's long-term viability and user trust.\n",
      "\n",
      "3. **Implementation of Machine Learning for Response Accuracy**\n",
      "   - **Priority**: Medium-High\n",
      "   - **Reason**: Implementing machine learning algorithms to improve response accuracy is essential for a scalable, user-friendly experience. While initially, the chatbot may function with a pre-defined Q&A set, the ability to learn from interactions and improve over time will require significant investment in machine learning expertise and technology but is critical for long-term success and user satisfaction.\n",
      "\n",
      "4. **Go-to-Market Strategy**\n",
      "   - **Priority**: Medium\n",
      "   - **Reason**: Although critical for the success of the Portfolio Chatbot, the go-to-market strategy requires moderate investments compared to product development and technical requirements. The strategy focuses on leveraging existing networks and social media, which can be cost-effective and builds on existing platforms but requires careful planning and execution to maximize reach and engagement.\n",
      "\n",
      "5. **Beta-Testing**\n",
      "   - **Priority**: Medium\n",
      "   - **Reason**: Before full-scale launch, testing with a select user group will gather essential feedback with a moderate investment of time and money. This stage is crucial for identifying bugs and improvement areas, optimizing user experience but follows the initial development and precedes wider marketing efforts.\n",
      "\n",
      "6. **Monetization Strategy**\n",
      "   - **Priority**: Medium-Low\n",
      "   - **Reason**: While monetization is important for sustainability, focusing on adding premium features comes after ensuring the chatbot works flawlessly and provides value to the target audience. Initial efforts should focus on building a user base and proving value before allocating significant resources to monetization features.\n",
      "\n",
      "7. **Enhancement Stages**\n",
      "   - **Priority**: Low\n",
      "   - **Reason**: Enhancements to add advanced features or expand the chatbot's capabilities are important for keeping the product competitive and engaging in the long term. However, these enhancements can be gradually implemented based on user feedback and technological advancements, requiring less immediate investment compared to foundational development and launch activities.\n",
      "\n",
      "8. **Success Metrics**\n",
      "   - **Karim**: Low\n",
      "   - **Reason**: While critical for measuring the chatbot’s impact and guiding future improvements, the establishment of success metrics is less resource-intensive compared to development and implementation phases. It is an ongoing process relying more on analysis and adjustment than upfront costs.\n",
      "\n",
      "This stack ranking prioritizes foundational development and technical requirements to ensure a functional, secure, and accessible chatbot, followed by strategies for improvement, market penetration, and monetization to sustain the project's long-term success.\n",
      "Program Manager Output:\n",
      " **Stack Ranking of Portfolio Chatbot Development Priorities**\n",
      "\n",
      "1. **Development Phase Tasks**\n",
      "   - **Priority**: High\n",
      "   - **Reason**: The initial set up of questions and answers, programming of automated responses, and integration capabilities are fundamental. Time and research investments are significant, but they establish the foundation for the chatbot. The cost is justified by the necessity of a robust and functional product before any enhancements or marketing efforts.\n",
      "\n",
      "2. **Technical Requirements**\n",
      "   - **Priority**: High\n",
      "   - **Reason**: Ensuring the chatbot is built on a reliable technology stack, is secure, and accessible to a broad audience is crucial. This requires substantial upfront investment in both research and development to adhere to best practices and regulatory standards, impacting the project's long-term viability and user trust.\n",
      "\n",
      "3. **Implementation of Machine Learning for Response Accuracy**\n",
      "   - **Priority**: Medium-High\n",
      "   - **Reason**: Implementing machine learning algorithms to improve response accuracy is essential for a scalable, user-friendly experience. While initially, the chatbot may function with a pre-defined Q&A set, the ability to learn from interactions and improve over time will require significant investment in machine learning expertise and technology but is critical for long-term success and user satisfaction.\n",
      "\n",
      "4. **Go-to-Market Strategy**\n",
      "   - **Priority**: Medium\n",
      "   - **Reason**: Although critical for the success of the Portfolio Chatbot, the go-to-market strategy requires moderate investments compared to product development and technical requirements. The strategy focuses on leveraging existing networks and social media, which can be cost-effective and builds on existing platforms but requires careful planning and execution to maximize reach and engagement.\n",
      "\n",
      "5. **Beta-Testing**\n",
      "   - **Priority**: Medium\n",
      "   - **Reason**: Before full-scale launch, testing with a select user group will gather essential feedback with a moderate investment of time and money. This stage is crucial for identifying bugs and improvement areas, optimizing user experience but follows the initial development and precedes wider marketing efforts.\n",
      "\n",
      "6. **Monetization Strategy**\n",
      "   - **Priority**: Medium-Low\n",
      "   - **Reason**: While monetization is important for sustainability, focusing on adding premium features comes after ensuring the chatbot works flawlessly and provides value to the target audience. Initial efforts should focus on building a user base and proving value before allocating significant resources to monetization features.\n",
      "\n",
      "7. **Enhancement Stages**\n",
      "   - **Priority**: Low\n",
      "   - **Reason**: Enhancements to add advanced features or expand the chatbot's capabilities are important for keeping the product competitive and engaging in the long term. However, these enhancements can be gradually implemented based on user feedback and technological advancements, requiring less immediate investment compared to foundational development and launch activities.\n",
      "\n",
      "8. **Success Metrics**\n",
      "   - **Karim**: Low\n",
      "   - **Reason**: While critical for measuring the chatbot’s impact and guiding future improvements, the establishment of success metrics is less resource-intensive compared to development and implementation phases. It is an ongoing process relying more on analysis and adjustment than upfront costs.\n",
      "\n",
      "This stack ranking prioritizes foundational development and technical requirements to ensure a functional, secure, and accessible chatbot, followed by strategies for improvement, market penetration, and monetization to sustain the project's long-term success.\n"
     ]
    }
   ],
   "source": [
    "prompt_4 = \"You are a Program Manager. Your tasks include writing narratives, managing scrum processes, and providing clear and concise plans. Consider the cost in terms of time, money, and research for each suggestion. Stack rank them by priority. Do not suggest how to implement them or what tools to use.\"\n",
    "\n",
    "class ProgramManager(BaseModel):\n",
    "    user_prompt: str = Field(description=\"The initial user proposal.\")\n",
    "    system_prompt: str = Field(description=\"System prompt describing the role of the Program Manager.\")\n",
    "    response: str = Field(description=\"The response string containing suggested tasks and reasoning.\")\n",
    "\n",
    "# Function\n",
    "def program_manager_agent(user_prompt: str, designer_output_content: str): # -> ProgramManager:\n",
    "    response = client.chat.completions.create(\n",
    "        model=\"gpt-4-turbo-preview\",\n",
    "        response_model=None,\n",
    "        messages=[\n",
    "            {\"role\": \"system\", \"content\": prompt_4},\n",
    "            {\"role\": \"user\", \"content\": user_prompt + '\\n' + designer_output_content},\n",
    "        ],\n",
    "    )\n",
    "    \n",
    "    response_content = response.choices[0].message.content.strip()\n",
    "    print(\"Response Content:\", response_content)\n",
    "    \n",
    "    return response_content\n",
    "\n",
    "# Example usage\n",
    "pm_output = program_manager_agent(user_proposal, designer_output_content)\n",
    "print(\"Program Manager Output:\\n\", pm_output)\n",
    "\n",
    "# %%\n",
    "# print(pm_output.model_dump_json(indent=4))"
   ]
  },
  {
   "cell_type": "markdown",
   "metadata": {},
   "source": [
    "### Estimator #5 - SWAG (Scientific wild-ass guess)"
   ]
  },
  {
   "cell_type": "code",
   "execution_count": 23,
   "metadata": {},
   "outputs": [
    {
     "name": "stdout",
     "output_type": "stream",
     "text": [
      "ChatCompletion(id='chatcmpl-9mQ77U26bYTSWSfZNsFdPw1AAjrUc', choices=[Choice(finish_reason='stop', index=0, logprobs=None, message=ChatCompletionMessage(content=\"To generate a budget for your project based on the given outputs, I'll break down the tasks into categories of design, development, and management. However, without the specific outputs from the Product Requirement Document (PRD), designer, and program manager, I'll construct a generic example based on common components of a tech project. \\n\\n### Assumed Task Categories and Details:\\n\\n1. **Design**: Creating user interfaces, user experience flow, and initial graphics.\\n2. **Development**: Coding the application, testing, deployment.\\n3. **Management**: Project oversight, coordination among team members, stakeholder communication.\\n\\n### Budget Estimation:\\n\\n#### Design\\n\\n| Task                                  | Time Estimate | Cost Per Hour (USD) | Subtotal (USD) |\\n|---------------------------------------|---------------|---------------------|----------------|\\n| Initial Design Concepts               | 40 hours      | $50                 | $2,000         |\\n| User Interface Design                 | 60 hours      | $50                 | $3,000         |\\n| Graphic Design                        | 30 hours      | $50                 | $1,500         |\\n| **Design Subtotal**                   | **130 hours** |                     | **$6,500**     |\\n\\n#### Development\\n\\n| Task                           | Time Estimate  | Cost Per Hour (USD) | Subtotal (USD)  |\\n|--------------------------------|----------------|---------------------|-----------------|\\n| Front-end Development          | 120 hours      | $70                 | $8,400          |\\n| Back-end Development           | 160 hours      | $70                 | $11,200         |\\n| Database Design and Setup      | 40 hours       | $70                 | $2,800          |\\n| Testing & Quality Assurance    | 80 hours       | $60                 | $4,800          |\\n| Deployment and Documentation   | 40 hours       | $60                 | $2,400          |\\n| **Development Subtotal**       | **440 hours**  |                     | **$29,600**     |\\n\\n#### Program Management\\n\\n| Task                          | Time Estimate  | Cost Per Hour (USD) | Subtotal (USD) |\\n|-------------------------------|----------------|---------------------|----------------|\\n| Project Planning              | 20 hours       | $80                 | $1,600         |\\n| Weekly Meetings               | 30 hours       | $80                 | $2,400         |\\n| Coordination and Communication| 50 hours       | $80                 | $4,000         |\\n| **Management Subtotal**       | **100 hours**  |                     | **$8,000**     |\\n\\n### Total Budget Summary\\n\\n- **Design Total**: $6,500\\n- **Development Total**: $29,600\\n- **Program Management Total**: $8,000\\n- **Grand Total**: **$44,100**\\n\\n### Notes:\\n1. **Time Estimate** is based on a medium complexity project. Adjustments should be made for projects of higher or lower complexity.\\n2. **Cost Per Hour** reflects average industry rates for medium-level expertise. Rates can vary based on the specific expertise level required.\\n3. For a detailed budget, specific project outputs from the PRD, designer, and program manager are essential.\\n4. Additional costs such as licenses, hosting, or third-party services are not included in this estimate.\\n\\nThis budget is a rough estimate based on a generic understanding of project scopes in the tech industry. Please provide specific outputs or requirements for a more accurate and tailored budget estimation.\", role='assistant', function_call=None, tool_calls=None))], created=1721327153, model='gpt-4-0125-preview', object='chat.completion', service_tier=None, system_fingerprint=None, usage=CompletionUsage(completion_tokens=715, prompt_tokens=182, total_tokens=897))\n"
     ]
    }
   ],
   "source": [
    "prompt_5 = \"\"\"\n",
    "You are a certified project funding estimator.\n",
    "For a given proposal PRD and narrative, create a budget for each task by\n",
    "- 1. determining how long that task should take, based on your knowledge base of similar tasks.\n",
    "- 2. determining how much each resource will cost per unit time for each task, based on your knowledge of similar resource tasks.\n",
    "- 3. multiplying the cost per time with the time estimate for each task, summing them into a total amount.\n",
    "Show a table of all resources with their time estimate and cost per time unit. Show subtotals and totals based on the groupings.\n",
    "\"\"\"\n",
    "\n",
    "pm_output_extended = \"\"\"\n",
    "Original User Proposal:\\n{user_proposal}\\n\\n####\\n\n",
    "Product Requirement Document Output:\\n{prd_output_content}\\n\\n####\\n\n",
    "Designer Output:\\n{designer_output_content}\\n\\n####\\n\n",
    "Program Manager Output:\\n{pm_output}\\n\\n####\\n\n",
    "\"\"\"\n",
    "\n",
    "# Function\n",
    "def estimator_agent(designer_output):\n",
    "    return client.chat.completions.create(\n",
    "        model=\"gpt-4-turbo-preview\",\n",
    "        response_model=None,\n",
    "        messages=[\n",
    "            {\"role\": \"system\", \"content\": prompt_5},\n",
    "            {\"role\": \"user\", \"content\": pm_output_extended},\n",
    "        ],\n",
    "    )\n",
    "\n",
    "estimator_agent_output = estimator_agent(designer_output)\n",
    "print(estimator_agent_output)"
   ]
  },
  {
   "cell_type": "code",
   "execution_count": 24,
   "metadata": {},
   "outputs": [
    {
     "name": "stdout",
     "output_type": "stream",
     "text": [
      "To generate a budget for your project based on the given outputs, I'll break down the tasks into categories of design, development, and management. However, without the specific outputs from the Product Requirement Document (PRD), designer, and program manager, I'll construct a generic example based on common components of a tech project. \n",
      "\n",
      "### Assumed Task Categories and Details:\n",
      "\n",
      "1. **Design**: Creating user interfaces, user experience flow, and initial graphics.\n",
      "2. **Development**: Coding the application, testing, deployment.\n",
      "3. **Management**: Project oversight, coordination among team members, stakeholder communication.\n",
      "\n",
      "### Budget Estimation:\n",
      "\n",
      "#### Design\n",
      "\n",
      "| Task                                  | Time Estimate | Cost Per Hour (USD) | Subtotal (USD) |\n",
      "|---------------------------------------|---------------|---------------------|----------------|\n",
      "| Initial Design Concepts               | 40 hours      | $50                 | $2,000         |\n",
      "| User Interface Design                 | 60 hours      | $50                 | $3,000         |\n",
      "| Graphic Design                        | 30 hours      | $50                 | $1,500         |\n",
      "| **Design Subtotal**                   | **130 hours** |                     | **$6,500**     |\n",
      "\n",
      "#### Development\n",
      "\n",
      "| Task                           | Time Estimate  | Cost Per Hour (USD) | Subtotal (USD)  |\n",
      "|--------------------------------|----------------|---------------------|-----------------|\n",
      "| Front-end Development          | 120 hours      | $70                 | $8,400          |\n",
      "| Back-end Development           | 160 hours      | $70                 | $11,200         |\n",
      "| Database Design and Setup      | 40 hours       | $70                 | $2,800          |\n",
      "| Testing & Quality Assurance    | 80 hours       | $60                 | $4,800          |\n",
      "| Deployment and Documentation   | 40 hours       | $60                 | $2,400          |\n",
      "| **Development Subtotal**       | **440 hours**  |                     | **$29,600**     |\n",
      "\n",
      "#### Program Management\n",
      "\n",
      "| Task                          | Time Estimate  | Cost Per Hour (USD) | Subtotal (USD) |\n",
      "|-------------------------------|----------------|---------------------|----------------|\n",
      "| Project Planning              | 20 hours       | $80                 | $1,600         |\n",
      "| Weekly Meetings               | 30 hours       | $80                 | $2,400         |\n",
      "| Coordination and Communication| 50 hours       | $80                 | $4,000         |\n",
      "| **Management Subtotal**       | **100 hours**  |                     | **$8,000**     |\n",
      "\n",
      "### Total Budget Summary\n",
      "\n",
      "- **Design Total**: $6,500\n",
      "- **Development Total**: $29,600\n",
      "- **Program Management Total**: $8,000\n",
      "- **Grand Total**: **$44,100**\n",
      "\n",
      "### Notes:\n",
      "1. **Time Estimate** is based on a medium complexity project. Adjustments should be made for projects of higher or lower complexity.\n",
      "2. **Cost Per Hour** reflects average industry rates for medium-level expertise. Rates can vary based on the specific expertise level required.\n",
      "3. For a detailed budget, specific project outputs from the PRD, designer, and program manager are essential.\n",
      "4. Additional costs such as licenses, hosting, or third-party services are not included in this estimate.\n",
      "\n",
      "This budget is a rough estimate based on a generic understanding of project scopes in the tech industry. Please provide specific outputs or requirements for a more accurate and tailored budget estimation.\n"
     ]
    }
   ],
   "source": [
    "print(estimator_agent_output.choices[0].message.content)"
   ]
  },
  {
   "cell_type": "code",
   "execution_count": 25,
   "metadata": {},
   "outputs": [],
   "source": [
    "estimator_agent_output_content = estimator_agent_output.choices[0].message.content"
   ]
  },
  {
   "cell_type": "markdown",
   "metadata": {},
   "source": [
    "### Risk Analysis & Contingency Plans #6 - Paranoid Skeptic (time/cost multiplier)"
   ]
  },
  {
   "cell_type": "code",
   "execution_count": 26,
   "metadata": {},
   "outputs": [],
   "source": [
    "# HIGH/MED/LOW ~ 3, 2, 1 X multipliers\n",
    "\n",
    "prompt_6 = \"\"\"\n",
    "## Prompt:  Project Budget Estimation and Risk Assessment\n",
    "\n",
    "You are a **Paranoid Skeptic**, a Risk Analysis & Contingency Planner. Your job is to analyze the provided project details, estimate the budget, and identify potential risks. \n",
    "\n",
    "**Input:**\n",
    "\n",
    "* **Original User Proposal:**  [Insert full text of user proposal]\n",
    "* **Product Requirement Document (PRD) Output:** [Insert full text of PRD]\n",
    "* **Designer Output:** [Insert any design documents, mockups, or specifications]\n",
    "* **Program Manager Output:** [Insert project timelines, resource allocations, or other PM artifacts]\n",
    "\n",
    "**Tasks:**\n",
    "\n",
    "1. **Budget Estimation:**\n",
    "    * Carefully review the provided project artifacts.\n",
    "    * Create a detailed budget breakdown similar to the example table below. Include tasks, time estimates, resources, costs, and total costs.\n",
    "    * **Example Table:**\n",
    "\n",
    "    | Task                            | Time Estimate | Resource        | Cost per Time Unit | Weekly Cost | Total Cost     |\n",
    "    |---------------------------------|---------------|-----------------|--------------------|-------------|----------------|\n",
    "    | Development of New Software Feature | 12 weeks      | Software Developer | $100/hr            | $4,000      | $48,000        |\n",
    "    | Design of User Interface        | 4 weeks       | UI/UX Designer  | $75/hr             | $3,000      | $12,000        |\n",
    "    | Project Management              | 16 weeks      | Project Manager | $85/hr             | $3,400      | $54,400        |\n",
    "    | **Total**                       |               |                 |                    |             | **$114,400**   |\n",
    "\n",
    "2. **Risk Assessment:**\n",
    "    * For EACH task identified in the budget, perform a risk assessment.\n",
    "    * Consider factors like:\n",
    "        * Technical complexity \n",
    "        * Dependency on external factors\n",
    "        * Clarity of requirements\n",
    "        * Resource availability and expertise\n",
    "        * Potential for scope creep\n",
    "    * Assign a risk level to each task: \n",
    "        * **HIGH:** Significant uncertainty or potential for problems.\n",
    "        * **MED:** Moderate risk, some unknowns or potential challenges.\n",
    "        * **LOW:**  Minimal risk, well-defined and straightforward.\n",
    "\n",
    "3. **Contingency Planning:**\n",
    "    * Modify the Budget Estimation Table:\n",
    "        * Add a column for \"Risk Level\" (HIGH, MED, LOW).\n",
    "        * Add a column for \"Contingency Multiplier\" (3 for HIGH, 2 for MED, 1 for LOW).\n",
    "        * Calculate a \"Total Cost with Contingency\" by multiplying the \"Total Cost\" by the \"Contingency Multiplier.\"\n",
    "\n",
    "**Output:**\n",
    "\n",
    "* Provide the Budget Estimation Table with Risk Level, Contingency Multiplier, and Total Cost with Contingency columns.\n",
    "* Explain your reasoning for each risk assessment and the chosen contingency multipliers. Highlight any assumptions made due to missing information.\n",
    "\n",
    "**Remember:** As a Paranoid Skeptic, you should always err on the side of caution. Overestimate risks and budget accordingly to ensure project success even in the face of unexpected challenges.\n",
    "\"\"\""
   ]
  },
  {
   "cell_type": "code",
   "execution_count": 27,
   "metadata": {},
   "outputs": [
    {
     "name": "stdout",
     "output_type": "stream",
     "text": [
      "ChatCompletion(id='chatcmpl-9mQ7WzoPPY2o8YNgt2aMPxYAuMlxd', choices=[Choice(finish_reason='stop', index=0, logprobs=None, message=ChatCompletionMessage(content=\"Given the context, let me draft a hypothetical project scenario for budget estimation and risk assessment purposes:\\n\\n**Input:**\\n\\n- **Original User Proposal:** Creation of a new web-based application tailored for small business accounting, featuring modules for invoicing, inventory management, and tax compliance.\\n\\n- **Product Requirement Document (PRD) Output:** The PRD outlines specific functionalities such as multi-currency support, integration with major e-commerce platforms, a seamless user interface compatible with mobile and desktop, and real-time analytics.\\n\\n- **Designer Output:** High-fidelity mockups for the desktop and mobile versions, user flow diagrams, and design specifications for the interface elements.\\n\\n- **Program Manager Output:** The project timeline is set for 8 months with milestones for each module. Resources are divided into teams for backend development, frontend development, design, and quality assurance.\\n\\n**Tasks:**\\n\\n1. **Budget Estimation:**\\n\\nI will create a hypothetical budget breakdown based on the given inputs:\\n\\n| Task                            | Time Estimate | Resource          | Cost per Time Unit | Weekly Cost | Total Cost     | Risk Level | Contingency Multiplier | Total Cost with Contingency |\\n|---------------------------------|---------------|-------------------|--------------------|-------------|----------------|------------|------------------------|-----------------------------|\\n| Backend Development             | 6 months      | Software Developer | $100/hr            | $4,000      | $96,000        | HIGH       | 3                      | $288,000                     |\\n| Frontend Development            | 6 months      | Frontend Developer | $90/hr             | $3,600      | $86,400        | MED        | 2                      | $172,800                     |\\n| UI/UX Design                    | 3 months      | UI/UX Designer    | $80/hr             | $3,200      | $38,400        | MED        | 2                      | $76,800                      |\\n| Quality Assurance               | 8 months      | QA Engineer       | $70/hr             | $2,800      | $89,600        | HIGH       | 3                      | $268,800                     |\\n| Project Management              | 8 months      | Project Manager   | $85/hr             | $3,400      | $108,800       | LOW        | 1                      | $108,800                     |\\n| **Total**                       |               |                   |                    |             | **$419,200**   |            |                        | **$915,200**                 |\\n\\n2. **Risk Assessment and Contingency Planning:**\\n\\n- **Backend Development**: High risk due to technical complexity and integration with various external systems (e-commerce platforms, bank APIs). Contingency is tripled to buffer against unexpected delays or technical challenges.\\n\\n- **Frontend Development**: Medium risk as the designs and user flows are well outlined but real-world usability testing might present unforeseen challenges. A doubled contingency accounts for potential design iteration and testing.\\n\\n- **UI/UX Design**: Medium risk since iterative design to meet user expectations and accessibility standards could extend timelines. Double contingency allows flexibility in design iterations and user testing.\\n\\n- **Quality Assurance**: High risk as the application's diverse functionality and integration points substantially increase testing complexity. Tripling the contingency accommodates comprehensive testing across multiple devices, platforms, and scenarios.\\n\\n- **Project Management**: Low risk because the roles and milestones are well defined. However, as a Paranoid Skeptic, maintaining a minimal contingency ensures management agility to respond to any unforeseen shifts in the project scope or timeline.\\n\\n**Assumptions:**\\n\\n- Rates are assumed based on industry averages and could vary based on geography or specific expertise required.\\n- Time estimates are made based on a typical project scope without detailed specifics about features or third-party integrations.\\n- The contingency multiplier is applied uniformly across tasks based on risk level. In reality, some tasks might require a tailored approach depending on specific project insights or past experiences.\\n\\n**Output:**\\n\\nThe adjusted budget incorporates a comprehensive risk assessment and contingency planning, reflecting a total cost with contingency of **$915,200**. This cautious approach ensures that the project is well-positioned to address unforeseen challenges, maintaining fidelity to the original user proposal and PRD outputs.\", role='assistant', function_call=None, tool_calls=None))], created=1721327178, model='gpt-4-0125-preview', object='chat.completion', service_tier=None, system_fingerprint=None, usage=CompletionUsage(completion_tokens=861, prompt_tokens=666, total_tokens=1527))\n"
     ]
    }
   ],
   "source": [
    "estimator_agent_output_content\n",
    "\n",
    "prompt_5 = \"\"\"\n",
    "You are a certified project funding estimator.\n",
    "For a given proposal PRD and narrative, create a budget for each task by\n",
    "- 1. determining how long that task should take, based on your knowledge base of similar tasks.\n",
    "- 2. determining how much each resource will cost per unit time for each task, based on your knowledge of similar resource tasks.\n",
    "- 3. multiplying the cost per time with the time estimate for each task, summing them into a total amount.\n",
    "Show a table of all resources with their time estimate and cost per time unit. Show subtotals and totals based on the groupings.\n",
    "\"\"\"\n",
    "\n",
    "estimator_output_extended = \"\"\"\n",
    "Estimator Output:\\n{estimator_agent_output_content}\\n\\n####\\n\n",
    "\"\"\"\n",
    "\n",
    "# Function\n",
    "def risk_agent(estimator_output_extended):\n",
    "    return client.chat.completions.create(\n",
    "        model=\"gpt-4-turbo-preview\",\n",
    "        response_model=None,\n",
    "        messages=[\n",
    "            {\"role\": \"system\", \"content\": prompt_6},\n",
    "            {\"role\": \"user\", \"content\": estimator_output_extended},\n",
    "        ],\n",
    "    )\n",
    "\n",
    "risk_agent_output = risk_agent(estimator_output_extended)\n",
    "print(risk_agent_output)"
   ]
  },
  {
   "cell_type": "code",
   "execution_count": 28,
   "metadata": {},
   "outputs": [
    {
     "name": "stdout",
     "output_type": "stream",
     "text": [
      "Given the context, let me draft a hypothetical project scenario for budget estimation and risk assessment purposes:\n",
      "\n",
      "**Input:**\n",
      "\n",
      "- **Original User Proposal:** Creation of a new web-based application tailored for small business accounting, featuring modules for invoicing, inventory management, and tax compliance.\n",
      "\n",
      "- **Product Requirement Document (PRD) Output:** The PRD outlines specific functionalities such as multi-currency support, integration with major e-commerce platforms, a seamless user interface compatible with mobile and desktop, and real-time analytics.\n",
      "\n",
      "- **Designer Output:** High-fidelity mockups for the desktop and mobile versions, user flow diagrams, and design specifications for the interface elements.\n",
      "\n",
      "- **Program Manager Output:** The project timeline is set for 8 months with milestones for each module. Resources are divided into teams for backend development, frontend development, design, and quality assurance.\n",
      "\n",
      "**Tasks:**\n",
      "\n",
      "1. **Budget Estimation:**\n",
      "\n",
      "I will create a hypothetical budget breakdown based on the given inputs:\n",
      "\n",
      "| Task                            | Time Estimate | Resource          | Cost per Time Unit | Weekly Cost | Total Cost     | Risk Level | Contingency Multiplier | Total Cost with Contingency |\n",
      "|---------------------------------|---------------|-------------------|--------------------|-------------|----------------|------------|------------------------|-----------------------------|\n",
      "| Backend Development             | 6 months      | Software Developer | $100/hr            | $4,000      | $96,000        | HIGH       | 3                      | $288,000                     |\n",
      "| Frontend Development            | 6 months      | Frontend Developer | $90/hr             | $3,600      | $86,400        | MED        | 2                      | $172,800                     |\n",
      "| UI/UX Design                    | 3 months      | UI/UX Designer    | $80/hr             | $3,200      | $38,400        | MED        | 2                      | $76,800                      |\n",
      "| Quality Assurance               | 8 months      | QA Engineer       | $70/hr             | $2,800      | $89,600        | HIGH       | 3                      | $268,800                     |\n",
      "| Project Management              | 8 months      | Project Manager   | $85/hr             | $3,400      | $108,800       | LOW        | 1                      | $108,800                     |\n",
      "| **Total**                       |               |                   |                    |             | **$419,200**   |            |                        | **$915,200**                 |\n",
      "\n",
      "2. **Risk Assessment and Contingency Planning:**\n",
      "\n",
      "- **Backend Development**: High risk due to technical complexity and integration with various external systems (e-commerce platforms, bank APIs). Contingency is tripled to buffer against unexpected delays or technical challenges.\n",
      "\n",
      "- **Frontend Development**: Medium risk as the designs and user flows are well outlined but real-world usability testing might present unforeseen challenges. A doubled contingency accounts for potential design iteration and testing.\n",
      "\n",
      "- **UI/UX Design**: Medium risk since iterative design to meet user expectations and accessibility standards could extend timelines. Double contingency allows flexibility in design iterations and user testing.\n",
      "\n",
      "- **Quality Assurance**: High risk as the application's diverse functionality and integration points substantially increase testing complexity. Tripling the contingency accommodates comprehensive testing across multiple devices, platforms, and scenarios.\n",
      "\n",
      "- **Project Management**: Low risk because the roles and milestones are well defined. However, as a Paranoid Skeptic, maintaining a minimal contingency ensures management agility to respond to any unforeseen shifts in the project scope or timeline.\n",
      "\n",
      "**Assumptions:**\n",
      "\n",
      "- Rates are assumed based on industry averages and could vary based on geography or specific expertise required.\n",
      "- Time estimates are made based on a typical project scope without detailed specifics about features or third-party integrations.\n",
      "- The contingency multiplier is applied uniformly across tasks based on risk level. In reality, some tasks might require a tailored approach depending on specific project insights or past experiences.\n",
      "\n",
      "**Output:**\n",
      "\n",
      "The adjusted budget incorporates a comprehensive risk assessment and contingency planning, reflecting a total cost with contingency of **$915,200**. This cautious approach ensures that the project is well-positioned to address unforeseen challenges, maintaining fidelity to the original user proposal and PRD outputs.\n"
     ]
    }
   ],
   "source": [
    "print(risk_agent_output.choices[0].message.content)"
   ]
  },
  {
   "cell_type": "markdown",
   "metadata": {},
   "source": [
    "### CFO #7 - Chief Financial Officer (Final Decision)"
   ]
  },
  {
   "cell_type": "markdown",
   "metadata": {},
   "source": [
    "TDB"
   ]
  }
 ],
 "metadata": {
  "kernelspec": {
   "display_name": "ba",
   "language": "python",
   "name": "python3"
  },
  "language_info": {
   "codemirror_mode": {
    "name": "ipython",
    "version": 3
   },
   "file_extension": ".py",
   "mimetype": "text/x-python",
   "name": "python",
   "nbconvert_exporter": "python",
   "pygments_lexer": "ipython3",
   "version": "3.11.9"
  }
 },
 "nbformat": 4,
 "nbformat_minor": 2
}
