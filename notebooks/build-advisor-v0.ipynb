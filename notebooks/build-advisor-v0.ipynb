{
 "cells": [
  {
   "cell_type": "markdown",
   "metadata": {},
   "source": [
    "### imports"
   ]
  },
  {
   "cell_type": "code",
   "execution_count": 13,
   "metadata": {},
   "outputs": [
    {
     "data": {
      "text/plain": [
       "True"
      ]
     },
     "execution_count": 13,
     "metadata": {},
     "output_type": "execute_result"
    }
   ],
   "source": [
    "import instructor\n",
    "from openai import OpenAI\n",
    "import os\n",
    "from pydantic import BaseModel, Field\n",
    "from dotenv import load_dotenv\n",
    "\n",
    "load_dotenv()"
   ]
  },
  {
   "cell_type": "markdown",
   "metadata": {},
   "source": [
    "### load instructor and openai"
   ]
  },
  {
   "cell_type": "code",
   "execution_count": 10,
   "metadata": {},
   "outputs": [],
   "source": [
    "# Patch the OpenAI client with Instructor\n",
    "client = instructor.from_openai(OpenAI(api_key=os.environ['OPENAI_API_KEY']))"
   ]
  },
  {
   "cell_type": "markdown",
   "metadata": {},
   "source": [
    "### user query/proposal"
   ]
  },
  {
   "cell_type": "code",
   "execution_count": 1,
   "metadata": {},
   "outputs": [],
   "source": [
    "user_proposal = input(\"Please enter the ai app you'd like to develop and the problem you are trying to solve:\")"
   ]
  },
  {
   "cell_type": "code",
   "execution_count": 2,
   "metadata": {},
   "outputs": [
    {
     "name": "stdout",
     "output_type": "stream",
     "text": [
      "I want to create a portfolio chatbot that answers questions about my experience and qualifications for a role that I might be applying to\n"
     ]
    }
   ],
   "source": [
    "print(user_proposal)"
   ]
  },
  {
   "cell_type": "markdown",
   "metadata": {},
   "source": [
    "### enhance query/proposal with clarification, extrapolation and proposal"
   ]
  },
  {
   "cell_type": "code",
   "execution_count": 11,
   "metadata": {},
   "outputs": [],
   "source": [
    "clarifying_question = \"how can this prompt proposal more clearly explain what is trying to be developed and what problems the solution solves?\"\n",
    "extrapolation_prompt = \"please explain in more detail what you are trying to build. please describe the problem you are trying to solve. please include any software languages, tools or packages to include. please include detailed specifics of any data sources, formats and/or types as input and/or outputs.\"\n",
    "proposal_prompt = \"create a plan with milestones to accomplish along the way for the idea proposed below. include any available tools or workflows that could be used as a solution.\"\n",
    "\n"
   ]
  },
  {
   "cell_type": "code",
   "execution_count": 15,
   "metadata": {},
   "outputs": [],
   "source": [
    "class UserProposal(BaseModel):\n",
    "    proposal: str = Field(desription=\"This is the proposal of the original user prompt. It should be a clear concise detailed plan to use simple ai software tools to solve specific problem.\")\n",
    "    is_clear: str = Field(desription=\"Is the proposed plan clear? It specifies which tools it needs to use and how. It lays out each component and how they all connect.\")\n",
    "    is_detailed: str = Field(desription=\"Is the proposed plan detailed? Each component should have a description of what it does.\")\n",
    "    is_explicit: str = Field(desription=\"Is the proposed plan explicit? Each component should have a data model to describe their input and output schema.\")\n",
    "\n",
    "# Function to extract user details\n",
    "def extract_user_proposal_details(user_proposal) -> UserProposal:\n",
    "    return client.chat.completions.create(\n",
    "        model=\"gpt-4-turbo-preview\",\n",
    "        response_model=UserProposal,\n",
    "        messages=[\n",
    "            {\"role\": \"user\", \"content\": user_proposal},\n",
    "        ],\n",
    "    )"
   ]
  },
  {
   "cell_type": "code",
   "execution_count": 17,
   "metadata": {},
   "outputs": [
    {
     "data": {
      "text/plain": [
       "UserProposal(proposal=\"To create a portfolio chatbot for your job applications, you would want to clearly outline your qualifications, experience, and skills in a structured format that a chatbot can interpret and present effectively to potential employers. The bot could include sections on education, professional experience, projects, skills, certifications, and achievements. It should also be able to answer frequently asked questions about your career and personalize responses based on the job you're applying for. Additionally, implementing natural language processing (NLP) capabilities will help the chatbot understand and respond to varied user queries more accurately. The chatbot interface should be user-friendly and accessible via multiple platforms (e.g., personal website, LinkedIn, email). Lastly, regular updates and maintenance will be essential to keep the chatbot's information up-to-date and relevant to the job market.\", is_clear='Yes', is_detailed='Yes', is_explicit='Yes')"
      ]
     },
     "execution_count": 17,
     "metadata": {},
     "output_type": "execute_result"
    }
   ],
   "source": [
    "user_proposal_with_extracted_details = extract_user_proposal_details(user_proposal)\n",
    "user_proposal_with_extracted_details"
   ]
  },
  {
   "cell_type": "code",
   "execution_count": 18,
   "metadata": {},
   "outputs": [
    {
     "data": {
      "text/plain": [
       "\"To create a portfolio chatbot for your job applications, you would want to clearly outline your qualifications, experience, and skills in a structured format that a chatbot can interpret and present effectively to potential employers. The bot could include sections on education, professional experience, projects, skills, certifications, and achievements. It should also be able to answer frequently asked questions about your career and personalize responses based on the job you're applying for. Additionally, implementing natural language processing (NLP) capabilities will help the chatbot understand and respond to varied user queries more accurately. The chatbot interface should be user-friendly and accessible via multiple platforms (e.g., personal website, LinkedIn, email). Lastly, regular updates and maintenance will be essential to keep the chatbot's information up-to-date and relevant to the job market.\""
      ]
     },
     "execution_count": 18,
     "metadata": {},
     "output_type": "execute_result"
    }
   ],
   "source": [
    "user_proposal_with_extracted_details.proposal"
   ]
  },
  {
   "cell_type": "code",
   "execution_count": 21,
   "metadata": {},
   "outputs": [
    {
     "data": {
      "text/plain": [
       "ProposedArchitecture(proposed_architecture=\"The proposed AI application seeks to create an advanced language model based on the transformer architecture. The application will provide real-time language translations, sentiment analysis, and text summarization for users. It will be accessible as a web application and through an API for integration into third-party services. The core of the application will be a machine learning model trained on a diverse dataset of languages and text genres to ensure accurate and contextually relevant translations and analyses. The application will also incorporate user feedback to continuously improve the model's performance. Key components of the system include a web interface for direct user interaction, an API gateway for third-party integrations, a machine learning model training and inference engine, and a data storage solution for storing training data and user inputs. The system will also need to ensure high availability, scalability, and security to handle varying loads and protect user data.\")"
      ]
     },
     "execution_count": 21,
     "metadata": {},
     "output_type": "execute_result"
    }
   ],
   "source": [
    "class ProposedArchitecture(BaseModel):\n",
    "    proposed_architecture: str = Field(desription=\"A detailed AI application architecture with all the tools required for the plan proposed. (e.g. Python packages)\")\n",
    "\n",
    "\n",
    "proposed_architecture = client.chat.completions.create(\n",
    "    model=\"gpt-4-turbo-preview\",\n",
    "    response_model=ProposedArchitecture,\n",
    "    messages=[\n",
    "        {\"role\": \"user\", \"content\": \"Write a detailed AI application architecture with all the tools required for the plan proposed: \\n\\n{user_proposal_with_extracted_details.proposal}\"},\n",
    "    ]\n",
    ")\n",
    "proposed_architecture"
   ]
  },
  {
   "cell_type": "markdown",
   "metadata": {},
   "source": [
    "very verbose and vague ... it needs to suggest a real solution"
   ]
  },
  {
   "cell_type": "code",
   "execution_count": 22,
   "metadata": {},
   "outputs": [],
   "source": [
    "human_feedback_of_proposed_plan = input(\"What do you think about this proposed plan and alleged architecture?:\")"
   ]
  },
  {
   "cell_type": "code",
   "execution_count": 24,
   "metadata": {},
   "outputs": [
    {
     "data": {
      "text/plain": [
       "'1. **Requirements Gathering:** Initiate the project by collecting and analyzing the requirements from stakeholders to understand the business needs and technical challenges. \\n2. **System Design:** Based on the requirements, design the system architecture. This includes creating diagrams and documentation that outline the overall structure, components, and communication flows. \\n3. **Development:** Break down the system design into manageable modules or components. Assign development teams to work on each module, using agile methodologies for iterative development and continuous integration. \\n4. **Testing:** Concurrent with development, implement a rigorous testing regime. This includes unit testing, integration testing, and system testing to ensure the software meets all specifications and requirements. \\n5. **Deployment:** After testing and quality assurance, progressively deploy the system in a staged environment. Start with a beta release to a limited user base, followed by a full-scale deployment. \\n6. **Maintenance and Updates:** Once the system is operational, initiate a maintenance phase to address any issues and regularly update the system with new features or security patches.'"
      ]
     },
     "execution_count": 24,
     "metadata": {},
     "output_type": "execute_result"
    }
   ],
   "source": [
    "class PropositionWithRevision(BaseModel):\n",
    "    revised_proposed_architecture: str = Field(desription=\"Step by step implementation of software solution.\")\n",
    "\n",
    "revised_architecture = client.chat.completions.create(\n",
    "    model=\"gpt-4-turbo-preview\",\n",
    "    response_model=PropositionWithRevision,\n",
    "    messages=[\n",
    "        {\"role\": \"user\", \"content\": \"Revise the plan proposed: \\n\\n{proposed_architecture.proposal}\\n\\nThe plan should be a step by step implementation of software solution.\"},\n",
    "    ]\n",
    ")\n",
    "revised_architecture.revised_proposed_architecture"
   ]
  },
  {
   "cell_type": "code",
   "execution_count": 25,
   "metadata": {},
   "outputs": [
    {
     "name": "stdout",
     "output_type": "stream",
     "text": [
      "1. **Requirements Gathering:** Initiate the project by collecting and analyzing the requirements from stakeholders to understand the business needs and technical challenges. \n",
      "2. **System Design:** Based on the requirements, design the system architecture. This includes creating diagrams and documentation that outline the overall structure, components, and communication flows. \n",
      "3. **Development:** Break down the system design into manageable modules or components. Assign development teams to work on each module, using agile methodologies for iterative development and continuous integration. \n",
      "4. **Testing:** Concurrent with development, implement a rigorous testing regime. This includes unit testing, integration testing, and system testing to ensure the software meets all specifications and requirements. \n",
      "5. **Deployment:** After testing and quality assurance, progressively deploy the system in a staged environment. Start with a beta release to a limited user base, followed by a full-scale deployment. \n",
      "6. **Maintenance and Updates:** Once the system is operational, initiate a maintenance phase to address any issues and regularly update the system with new features or security patches.\n"
     ]
    }
   ],
   "source": [
    "print(revised_architecture.revised_proposed_architecture)"
   ]
  }
 ],
 "metadata": {
  "kernelspec": {
   "display_name": "ba",
   "language": "python",
   "name": "python3"
  },
  "language_info": {
   "codemirror_mode": {
    "name": "ipython",
    "version": 3
   },
   "file_extension": ".py",
   "mimetype": "text/x-python",
   "name": "python",
   "nbconvert_exporter": "python",
   "pygments_lexer": "ipython3",
   "version": "3.11.9"
  }
 },
 "nbformat": 4,
 "nbformat_minor": 2
}
