{
 "cells": [
  {
   "cell_type": "markdown",
   "metadata": {},
   "source": [
    "# Build Advisor PoC"
   ]
  },
  {
   "cell_type": "markdown",
   "metadata": {},
   "source": [
    "AI Applications\n",
    "\n",
    "- Audience is technical\n",
    "- LLM + good prompt engineering\n",
    "\n",
    "Action Item:\n",
    "- Work with Mike to get a few shot examples (3+) for each of\n",
    "  - Definition agent\n",
    "  - Specification agent\n",
    "\n",
    "W1    \n",
    "  - Deploy on HF spaces\n",
    "      - Landing Page Intro: \"I am... I do... how to use me...\"\n",
    "\n",
    "W2\n",
    "  - Create PDF output\n",
    "  - open PDF view\n",
    "  - download PDF\n",
    "  - feedback box\n",
    "      - good/bad\n",
    "      - would you like to add/change? (Y/N)\n",
    "        - if Y: what would you like to add/change:\n",
    "        - if N: exit\n",
    "\n",
    "Iteration (pitfall) - work section-by-section w/ saved states\n",
    "how do you change a specific part based on feedback\n",
    "\n",
    "### Business Value: 🚦Green Light Projects"
   ]
  },
  {
   "cell_type": "markdown",
   "metadata": {},
   "source": [
    "## BizDev (v1)\n",
    "\n",
    "Definition (What?) : Product Requirement Definition -> Specification (How?) : Engineering/Function -> Plan (When? Who?): Resource Allocator\n",
    "\n",
    "⬇️📄 Project Output"
   ]
  },
  {
   "cell_type": "markdown",
   "metadata": {},
   "source": [
    "___"
   ]
  },
  {
   "cell_type": "markdown",
   "metadata": {},
   "source": [
    "imports"
   ]
  },
  {
   "cell_type": "code",
   "execution_count": 1,
   "metadata": {},
   "outputs": [],
   "source": [
    "import instructor\n",
    "from openai import OpenAI\n",
    "import os\n",
    "from pydantic import BaseModel, Field\n",
    "from dotenv import load_dotenv\n",
    "\n",
    "load_dotenv()\n",
    "\n",
    "# Patch the OpenAI client with Instructor\n",
    "client = instructor.from_openai(OpenAI(api_key=os.environ['OPENAI_API_KEY']))"
   ]
  },
  {
   "cell_type": "markdown",
   "metadata": {},
   "source": [
    "User Prompt"
   ]
  },
  {
   "cell_type": "code",
   "execution_count": 2,
   "metadata": {},
   "outputs": [],
   "source": [
    "user_proposal = \"I want to create a portfolio chatbot that answers questions about my experience and qualifications for a role that I might be applying to\""
   ]
  },
  {
   "cell_type": "markdown",
   "metadata": {},
   "source": [
    "LLM function"
   ]
  },
  {
   "cell_type": "code",
   "execution_count": 37,
   "metadata": {},
   "outputs": [],
   "source": [
    "# Function\n",
    "def llm_call(user_prompt, system_prompt=None, response_model=None):\n",
    "    messages = [\n",
    "        {\"role\": \"user\", \"content\": user_prompt}\n",
    "    ] if system_prompt is None else [\n",
    "        {\"role\": \"system\", \"content\": system_prompt},\n",
    "        {\"role\": \"user\", \"content\": user_prompt},\n",
    "    ]\n",
    "    return client.chat.completions.create(\n",
    "        model=\"gpt-4-turbo-preview\",\n",
    "        response_model=response_model,\n",
    "        messages=messages,\n",
    "    )\n",
    "\n",
    "# Usage:\n",
    "# response = llm_call(\"user prompt\").choices[0].message.content if response_model is None else llm_call(\"user prompt\", response_model=response_model).choices[0].message.content"
   ]
  },
  {
   "cell_type": "code",
   "execution_count": 39,
   "metadata": {},
   "outputs": [
    {
     "data": {
      "text/plain": [
       "'Testing received loud and clear! How can I assist you today?'"
      ]
     },
     "execution_count": 39,
     "metadata": {},
     "output_type": "execute_result"
    }
   ],
   "source": [
    "llm_call(\"testing... 1,2,3\").choices[0].message.content"
   ]
  },
  {
   "cell_type": "markdown",
   "metadata": {},
   "source": [
    "### PRD Agent"
   ]
  },
  {
   "cell_type": "code",
   "execution_count": 47,
   "metadata": {},
   "outputs": [],
   "source": [
    "def generate_prd_from_file(user_proposal, prd_template_file):\n",
    "    # sourcery skip: inline-immediately-returned-variable\n",
    "    with open(prd_template_file, 'r') as file:\n",
    "        prd_template = file.read()\n",
    "\n",
    "    prd_document = prd_template.format(user_proposal=user_proposal)\n",
    "    return prd_document\n",
    "\n",
    "# Example usage\n",
    "user_proposal = \"I want to create a portfolio chatbot that answers questions about my experience and qualifications for a role that I might be applying to\"\n",
    "prd_template_file = '../prompts/PRD_TEMPLATE.txt'  # Path to your PRD template file\n",
    "# print(generate_prd_from_file(user_proposal, prd_template_file))\n"
   ]
  },
  {
   "cell_type": "code",
   "execution_count": 48,
   "metadata": {},
   "outputs": [
    {
     "name": "stdout",
     "output_type": "stream",
     "text": [
      "Based on your requirement for a portfolio chatbot, here's a tailored Product Requirements Document (PRD) to guide its development:\n",
      "\n",
      "### Portfolio Chatbot PRD\n",
      "\n",
      "#### Introduction\n",
      "**Objective/Goal**:\n",
      "- Develop a chatbot that interacts with potential employers or recruiters by providing detailed responses about your professional experience, qualifications, and any relevant projects or skills related to the role you're applying for.\n",
      "\n",
      "#### Features\n",
      "\n",
      "**Feature 1: Interactive Question-Answering** \n",
      "- **Description**: The chatbot will leverage NLP to understand and respond to queries about your professional background, skills, qualifications, and work experiences.\n",
      "- **Goal**: To simulate a real-time conversation with recruiters, offering them a personalized experience.\n",
      "- **Use Case**: A recruiter inquiring about your experience with Python will receive a detailed answer highlighting your years of experience, projects completed, and the proficiency level.\n",
      "- **Additional Details**: The chatbot will not require personal user data from the recruiter, focusing solely on professional information.\n",
      "\n",
      "**Feature 2: Role-Specific Responses** \n",
      "- **Description**: Tailor responses based on specific roles or requirements mentioned by the recruiter.\n",
      "- **Goal**: To emphasize aspects of your portfolio that are most relevant to the position in question.\n",
      "- **Use Case**: If a recruiter mentions looking for a frontend developer, the chatbot immediately highlights your expertise in HTML, CSS, JavaScript, and relevant projects.\n",
      "- **Additional Details**: The system will include a mapping mechanism to correlate job roles with specific skills and experiences in your portfolio.\n",
      "\n",
      "#### UX Flow & Design Notes\n",
      "- **Overview**: The chatbot will be integrated on professional networking sites or personal portfolio pages with an inviting user interface prompting the recruiter to start the dialogue.\n",
      "- **User Workflow**: Users initiate interaction by typing in a question or selecting pre-set queries about your qualifications. The chatbot will then guide the conversation based on the query, asking follow-up questions if necessary.\n",
      "- **Design Considerations**: Ensure the chat interface is accessible, intuitive, and does not require extensive technical knowledge to interact with.\n",
      "\n",
      "#### System & Environment Requirements\n",
      "- **Supported Environments**:\n",
      "  - Browsers: Chrome, Firefox, Safari.\n",
      "  - Operating Systems: Windows 10, macOS.\n",
      "  - Mobile responsiveness for access on smartphones and tablets.\n",
      "\n",
      "#### Assumptions, Constraints & Dependencies\n",
      "- **Assumptions**:\n",
      "  - Recruiters have a basic understanding of how to interact with chatbots.\n",
      "- **Constraints**:\n",
      "  - The chatbot will rely on accurately updated information to remain relevant.\n",
      "- **Dependencies**:\n",
      "  - Integration with professional networking platforms for live data updates and LinkedIn APIs for fetching the latest portfolio updates.\n",
      "\n",
      "#### Prompt Engineering Practices\n",
      "- **Ambiguity Mitigation**: Use structured data for the backend portfolio information to streamline clear, specific responses.\n",
      "- **Versioning**: Implement version control for the chatbot's knowledge base to keep it updated with the newest information.\n",
      "- **Optimization**: Regularly test the chatbot interaction flows and update based on feedback to improve conversational accuracy and relevance.\n",
      "\n",
      "#### Task Composability\n",
      "- **Multiple Tasks Composition**: The chatbot will handle multiple inquiries in a single session, prioritizing by the sequence of the conversation.\n",
      "- **Agents and Tools**: Utilize AI conversational agents with integration of filtering tools to select the most relevant portfolio pieces for each question.\n",
      "- **Control Flows**: Implement conditional logic to guide the flow of conversation based on the context and complexity of the inquiries.\n",
      "\n",
      "#### Review & Approval Process\n",
      "- **Initial Review**: Your own review of the chatbot's responses to ensure accuracy.\n",
      "- **Business Side Stakeholders Review**: Seek feedback from mentors or colleagues in your industry.\n",
      "- **Engineering Handoff**: Detailed documentation for developers on the team, ensuring they understand the requirements and constraints.\n",
      "- **Final Approval**: Test the chatbot with a group of recruiter contacts for real-world feedback and final adjustments.\n",
      "\n",
      "This custom PRD for your portfolio chatbot projects an innovative way to engage with potential employers, highlighting your suitability for roles in a conversational, user-friendly manner.\n"
     ]
    }
   ],
   "source": [
    "prd_sys1 = generate_prd_from_file(user_proposal, prd_template_file)\n",
    "prd_response = llm_call(user_prompt=user_proposal, system_prompt=prd_sys1).choices[0].message.content\n",
    "print(prd_response)"
   ]
  },
  {
   "cell_type": "code",
   "execution_count": 52,
   "metadata": {},
   "outputs": [
    {
     "name": "stdout",
     "output_type": "stream",
     "text": [
      "{\n",
      "    \"objective_goal\": \"Develop a chatbot that interacts with potential employers or recruiters by providing detailed responses about your professional experience, qualifications, and any relevant projects or skills related to the role you're applying for. User Proposal: I want to create a portfolio chatbot that answers questions about my experience and qualifications for a role that I might be applying to\",\n",
      "    \"features\": [\n",
      "        {\n",
      "            \"description\": \"The chatbot will leverage NLP to understand and respond to queries about your professional background, skills, qualifications, and work experiences.\",\n",
      "            \"goal\": \"To simulate a real-time conversation with recruiters, offering them a personalized experience.\",\n",
      "            \"use_case\": \"A recruiter inquiring about your experience with Python will receive a detailed answer highlighting your years of experience, projects completed, and the proficiency level.\",\n",
      "            \"additional_details\": \"The chatbot will not require personal user data from the recruiter, focusing solely on professional information.\"\n",
      "        },\n",
      "        {\n",
      "            \"description\": \"Tailor responses based on specific roles or requirements mentioned by the recruiter.\",\n",
      "            \"goal\": \"To emphasize aspects of your portfolio that are most relevant to the position in question.\",\n",
      "            \"use_case\": \"If a recruiter mentions looking for a frontend developer, the chatbot immediately highlights your expertise in HTML, CSS, JavaScript, and relevant projects.\",\n",
      "            \"additional_details\": \"The system will include a mapping mechanism to correlate job roles with specific skills and experiences in your portfolio.\"\n",
      "        }\n",
      "    ],\n",
      "    \"ux_flow_design_notes\": \"The chatbot will be integrated on professional networking sites or personal portfolio pages with an inviting user interface prompting the recruiter to start the dialogue. Users initiate interaction by typing in a question or selecting pre-set queries about your qualifications. The chatbot will then guide the conversation based on the query, asking follow-up questions if necessary. Ensure the chat interface is accessible, intuitive, and does not require extensive technical knowledge to interact with.\",\n",
      "    \"system_environment_requirements\": \"Supported Environments: Browsers: Chrome, Firefox, Safari. Operating Systems: Windows 10, macOS. Mobile responsiveness for access on smartphones and tablets.\",\n",
      "    \"assumptions\": [\n",
      "        \"Recruiters have a basic understanding of how to interact with chatbots.\"\n",
      "    ],\n",
      "    \"constraints\": [\n",
      "        \"The chatbot will rely on accurately updated information to remain relevant.\"\n",
      "    ],\n",
      "    \"dependencies\": [\n",
      "        \"Integration with professional networking platforms for live data updates and LinkedIn APIs for fetching the latest portfolio updates.\"\n",
      "    ],\n",
      "    \"prompt_engineering_practices\": \"Use structured data for the backend portfolio information to streamline clear, specific responses. Implement version control for the chatbot's knowledge base to keep it updated with the newest information. Regularly test the chatbot interaction flows and update based on feedback to improve conversational accuracy and relevance.\",\n",
      "    \"task_composability\": \"The chatbot will handle multiple inquiries in a single session, prioritizing by the sequence of the conversation. Utilize AI conversational agents with integration of filtering tools to select the most relevant portfolio pieces for each question. Implement conditional logic to guide the flow of conversation based on the context and complexity of the inquiries.\",\n",
      "    \"review_approval_process\": \"Initial Review: Your own review of the chatbot's responses to ensure accuracy. Business Side Stakeholders Review: Seek feedback from mentors or colleagues in your industry. Engineering Handoff: Detailed documentation for developers on the team, ensuring they understand the requirements and constraints. Final Approval: Test the chatbot with a group of recruiter contacts for real-world feedback and final adjustments.\"\n",
      "}\n"
     ]
    }
   ],
   "source": [
    "from pydantic import BaseModel\n",
    "from typing import List\n",
    "\n",
    "class Feature(BaseModel):\n",
    "    description: str\n",
    "    goal: str\n",
    "    use_case: str\n",
    "    additional_details: str\n",
    "\n",
    "class PRD(BaseModel):\n",
    "    objective_goal: str\n",
    "    features: List[Feature]\n",
    "    ux_flow_design_notes: str\n",
    "    system_environment_requirements: str\n",
    "    assumptions: List[str]\n",
    "    constraints: List[str]\n",
    "    dependencies: List[str]\n",
    "    prompt_engineering_practices: str\n",
    "    task_composability: str\n",
    "    review_approval_process: str\n",
    "\n",
    "# Example usage with the provided PRD content\n",
    "user_proposal = \"I want to create a portfolio chatbot that answers questions about my experience and qualifications for a role that I might be applying to\"\n",
    "\n",
    "prd_content = PRD(\n",
    "    objective_goal=f\"Develop a chatbot that interacts with potential employers or recruiters by providing detailed responses about your professional experience, qualifications, and any relevant projects or skills related to the role you're applying for. User Proposal: {user_proposal}\",\n",
    "    features=[\n",
    "        Feature(\n",
    "            description=\"The chatbot will leverage NLP to understand and respond to queries about your professional background, skills, qualifications, and work experiences.\",\n",
    "            goal=\"To simulate a real-time conversation with recruiters, offering them a personalized experience.\",\n",
    "            use_case=\"A recruiter inquiring about your experience with Python will receive a detailed answer highlighting your years of experience, projects completed, and the proficiency level.\",\n",
    "            additional_details=\"The chatbot will not require personal user data from the recruiter, focusing solely on professional information.\"\n",
    "        ),\n",
    "        Feature(\n",
    "            description=\"Tailor responses based on specific roles or requirements mentioned by the recruiter.\",\n",
    "            goal=\"To emphasize aspects of your portfolio that are most relevant to the position in question.\",\n",
    "            use_case=\"If a recruiter mentions looking for a frontend developer, the chatbot immediately highlights your expertise in HTML, CSS, JavaScript, and relevant projects.\",\n",
    "            additional_details=\"The system will include a mapping mechanism to correlate job roles with specific skills and experiences in your portfolio.\"\n",
    "        )\n",
    "    ],\n",
    "    ux_flow_design_notes=\"The chatbot will be integrated on professional networking sites or personal portfolio pages with an inviting user interface prompting the recruiter to start the dialogue. Users initiate interaction by typing in a question or selecting pre-set queries about your qualifications. The chatbot will then guide the conversation based on the query, asking follow-up questions if necessary. Ensure the chat interface is accessible, intuitive, and does not require extensive technical knowledge to interact with.\",\n",
    "    system_environment_requirements=\"Supported Environments: Browsers: Chrome, Firefox, Safari. Operating Systems: Windows 10, macOS. Mobile responsiveness for access on smartphones and tablets.\",\n",
    "    assumptions=[\n",
    "        \"Recruiters have a basic understanding of how to interact with chatbots.\"\n",
    "    ],\n",
    "    constraints=[\n",
    "        \"The chatbot will rely on accurately updated information to remain relevant.\"\n",
    "    ],\n",
    "    dependencies=[\n",
    "        \"Integration with professional networking platforms for live data updates and LinkedIn APIs for fetching the latest portfolio updates.\"\n",
    "    ],\n",
    "    prompt_engineering_practices=\"Use structured data for the backend portfolio information to streamline clear, specific responses. Implement version control for the chatbot's knowledge base to keep it updated with the newest information. Regularly test the chatbot interaction flows and update based on feedback to improve conversational accuracy and relevance.\",\n",
    "    task_composability=\"The chatbot will handle multiple inquiries in a single session, prioritizing by the sequence of the conversation. Utilize AI conversational agents with integration of filtering tools to select the most relevant portfolio pieces for each question. Implement conditional logic to guide the flow of conversation based on the context and complexity of the inquiries.\",\n",
    "    review_approval_process=\"Initial Review: Your own review of the chatbot's responses to ensure accuracy. Business Side Stakeholders Review: Seek feedback from mentors or colleagues in your industry. Engineering Handoff: Detailed documentation for developers on the team, ensuring they understand the requirements and constraints. Final Approval: Test the chatbot with a group of recruiter contacts for real-world feedback and final adjustments.\"\n",
    ")\n",
    "\n",
    "print(prd_content.model_dump_json(indent=4))"
   ]
  },
  {
   "cell_type": "code",
   "execution_count": 53,
   "metadata": {},
   "outputs": [
    {
     "name": "stdout",
     "output_type": "stream",
     "text": [
      "objective_goal='Develop a portfolio chatbot that provides detailed responses about my professional experience, skills, and qualifications to potential employers or other interested parties.' features=[Feature(description='Interactive Q&A: The chatbot engages users in a conversational manner, allowing them to inquire about specific experiences, skills, projects, or qualifications and receive comprehensive, personalized responses.', goal='Enhance user engagement by providing instant, tailored information about my professional background upon request.', use_case='An employer inquires about my project management experience, and the chatbot offers detailed examples of relevant projects, highlighting my roles and achievements.', additional_details='The chatbot should present information in a conversational tone, dynamically adjusting replies based on the context of the inquiry. It must recognize and adapt to different question types, ranging from broad overviews to specific details.'), Feature(description='Resume Overview and Deep Dive: Gives users the option to explore my professional history in a structured manner, either through a concise summary or a detailed walkthrough of my resume, including sections on education, work experience, and skills.', goal='Provide a comprehensive yet concise overview of my professional journey, making it easier for users to understand my background and expertise.', use_case='A user asks for a summary of my software development experience, and the chatbot outlines my major projects, the technologies used, and the results achieved.', additional_details='The chatbot should be capable of segmenting information into digestible parts, allowing users to navigate through my professional background easily. Where relevant, it could provide links to portfolios, project pages, or other online resources.')] ux_flow_design_notes='The chatbot should be designed for easy integration on professional networking sites, personal websites, and possibly email signatures. It must feature a simple, intuitive user interface that enhances user interaction and engagement. Design considerations include responsiveness, minimal design that aligns with professional branding, and adaptive text input fields for ease of use.' system_environment_requirements='Compatible with major web browsers (Chrome, Firefox, Safari) and supports both desktop and mobile platforms (iOS, Android). The underlying technology should ensure responsiveness and low latency for a seamless user experience.' assumptions=['All users have basic digital literacy and are familiar with chatbot interactions.', 'Users have continuous internet access when interacting with the chatbot.'] constraints=['Budget constraints limit the scope of initial deployment features.', 'Development timeline is constrained by project deadlines.'] dependencies=['Dependence on natural language processing (NLP) technologies for interpreting and generating human-like responses.', 'Relies on reliable web hosting services to ensure the chatbot is accessible 24/7.'] prompt_engineering_practices=\"Adopt best practices in prompt engineering to minimize ambiguity and enhance the chatbot's ability to deliver precise, relevant answers. This includes crafting detailed prompts, employing techniques for clarity, and iterative testing with diverse user groups to refine interaction flows.\" task_composability=\"The chatbot's functionality hinges on its ability to seamlessly integrate various tasks such as parsing user input, retrieving specific information from a database, and generating coherent, contextually appropriate responses. The architecture should facilitate easy updates and expansions to chatbot capabilities over time.\" review_approval_process='Initial internal review by the product development team followed by feedback integration. Subsequent reviews by key stakeholders for alignment on objectives and scope. Final review and approval by the technical team to ensure feasibility and implementation readiness before deployment.'\n"
     ]
    }
   ],
   "source": [
    "prd_sys1 = generate_prd_from_file(user_proposal, prd_template_file)\n",
    "prd_response = llm_call(user_prompt=user_proposal, system_prompt=prd_sys1, response_model=PRD)\n",
    "print(prd_response)"
   ]
  },
  {
   "cell_type": "code",
   "execution_count": 54,
   "metadata": {},
   "outputs": [
    {
     "name": "stdout",
     "output_type": "stream",
     "text": [
      "{\n",
      "    \"objective_goal\": \"Develop a portfolio chatbot that provides detailed responses about my professional experience, skills, and qualifications to potential employers or other interested parties.\",\n",
      "    \"features\": [\n",
      "        {\n",
      "            \"description\": \"Interactive Q&A: The chatbot engages users in a conversational manner, allowing them to inquire about specific experiences, skills, projects, or qualifications and receive comprehensive, personalized responses.\",\n",
      "            \"goal\": \"Enhance user engagement by providing instant, tailored information about my professional background upon request.\",\n",
      "            \"use_case\": \"An employer inquires about my project management experience, and the chatbot offers detailed examples of relevant projects, highlighting my roles and achievements.\",\n",
      "            \"additional_details\": \"The chatbot should present information in a conversational tone, dynamically adjusting replies based on the context of the inquiry. It must recognize and adapt to different question types, ranging from broad overviews to specific details.\"\n",
      "        },\n",
      "        {\n",
      "            \"description\": \"Resume Overview and Deep Dive: Gives users the option to explore my professional history in a structured manner, either through a concise summary or a detailed walkthrough of my resume, including sections on education, work experience, and skills.\",\n",
      "            \"goal\": \"Provide a comprehensive yet concise overview of my professional journey, making it easier for users to understand my background and expertise.\",\n",
      "            \"use_case\": \"A user asks for a summary of my software development experience, and the chatbot outlines my major projects, the technologies used, and the results achieved.\",\n",
      "            \"additional_details\": \"The chatbot should be capable of segmenting information into digestible parts, allowing users to navigate through my professional background easily. Where relevant, it could provide links to portfolios, project pages, or other online resources.\"\n",
      "        }\n",
      "    ],\n",
      "    \"ux_flow_design_notes\": \"The chatbot should be designed for easy integration on professional networking sites, personal websites, and possibly email signatures. It must feature a simple, intuitive user interface that enhances user interaction and engagement. Design considerations include responsiveness, minimal design that aligns with professional branding, and adaptive text input fields for ease of use.\",\n",
      "    \"system_environment_requirements\": \"Compatible with major web browsers (Chrome, Firefox, Safari) and supports both desktop and mobile platforms (iOS, Android). The underlying technology should ensure responsiveness and low latency for a seamless user experience.\",\n",
      "    \"assumptions\": [\n",
      "        \"All users have basic digital literacy and are familiar with chatbot interactions.\",\n",
      "        \"Users have continuous internet access when interacting with the chatbot.\"\n",
      "    ],\n",
      "    \"constraints\": [\n",
      "        \"Budget constraints limit the scope of initial deployment features.\",\n",
      "        \"Development timeline is constrained by project deadlines.\"\n",
      "    ],\n",
      "    \"dependencies\": [\n",
      "        \"Dependence on natural language processing (NLP) technologies for interpreting and generating human-like responses.\",\n",
      "        \"Relies on reliable web hosting services to ensure the chatbot is accessible 24/7.\"\n",
      "    ],\n",
      "    \"prompt_engineering_practices\": \"Adopt best practices in prompt engineering to minimize ambiguity and enhance the chatbot's ability to deliver precise, relevant answers. This includes crafting detailed prompts, employing techniques for clarity, and iterative testing with diverse user groups to refine interaction flows.\",\n",
      "    \"task_composability\": \"The chatbot's functionality hinges on its ability to seamlessly integrate various tasks such as parsing user input, retrieving specific information from a database, and generating coherent, contextually appropriate responses. The architecture should facilitate easy updates and expansions to chatbot capabilities over time.\",\n",
      "    \"review_approval_process\": \"Initial internal review by the product development team followed by feedback integration. Subsequent reviews by key stakeholders for alignment on objectives and scope. Final review and approval by the technical team to ensure feasibility and implementation readiness before deployment.\"\n",
      "}\n"
     ]
    }
   ],
   "source": [
    "print(prd_response.model_dump_json(indent=4))"
   ]
  }
 ],
 "metadata": {
  "kernelspec": {
   "display_name": "ba",
   "language": "python",
   "name": "python3"
  },
  "language_info": {
   "codemirror_mode": {
    "name": "ipython",
    "version": 3
   },
   "file_extension": ".py",
   "mimetype": "text/x-python",
   "name": "python",
   "nbconvert_exporter": "python",
   "pygments_lexer": "ipython3",
   "version": "3.11.9"
  }
 },
 "nbformat": 4,
 "nbformat_minor": 2
}
