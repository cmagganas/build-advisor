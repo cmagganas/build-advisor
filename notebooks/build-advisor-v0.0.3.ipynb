{
 "cells": [
  {
   "cell_type": "markdown",
   "metadata": {},
   "source": [
    "# Build Advisor PoC"
   ]
  },
  {
   "cell_type": "markdown",
   "metadata": {},
   "source": [
    "AI Applications\n",
    "\n",
    "- Audience is technical\n",
    "- LLM + good prompt engineering\n",
    "\n",
    "Action Item:\n",
    "- Work with Mike to get a few shot examples (3+) for each of\n",
    "  - Definition agent\n",
    "  - Specification agent\n",
    "\n",
    "W1    \n",
    "  - Deploy on HF spaces\n",
    "      - Landing Page Intro: \"I am... I do... how to use me...\"\n",
    "\n",
    "W2\n",
    "  - Create PDF output\n",
    "  - open PDF view\n",
    "  - download PDF\n",
    "  - feedback box\n",
    "      - good/bad\n",
    "      - would you like to add/change? (Y/N)\n",
    "        - if Y: what would you like to add/change:\n",
    "        - if N: exit\n",
    "\n",
    "Iteration (pitfall) - work section-by-section w/ saved states\n",
    "how do you change a specific part based on feedback\n",
    "\n",
    "### Business Value: 🚦Green Light Projects"
   ]
  },
  {
   "cell_type": "markdown",
   "metadata": {},
   "source": [
    "## BizDev (v1)\n",
    "\n",
    "Definition (What?) : Product Requirement Definition -> Specification (How?) : Engineering/Function -> Plan (When? Who?): Resource Allocator\n",
    "\n",
    "⬇️📄 Project Output"
   ]
  },
  {
   "cell_type": "markdown",
   "metadata": {},
   "source": [
    "___"
   ]
  },
  {
   "cell_type": "markdown",
   "metadata": {},
   "source": [
    "imports"
   ]
  },
  {
   "cell_type": "code",
   "execution_count": 2,
   "metadata": {},
   "outputs": [],
   "source": [
    "import instructor\n",
    "from openai import OpenAI\n",
    "import os\n",
    "from pydantic import BaseModel, Field\n",
    "from dotenv import load_dotenv\n",
    "\n",
    "load_dotenv()\n",
    "\n",
    "# Patch the OpenAI client with Instructor\n",
    "client = instructor.from_openai(OpenAI(api_key=os.environ['OPENAI_API_KEY']))"
   ]
  },
  {
   "cell_type": "markdown",
   "metadata": {},
   "source": [
    "User Prompt"
   ]
  },
  {
   "cell_type": "code",
   "execution_count": 3,
   "metadata": {},
   "outputs": [],
   "source": [
    "user_proposal = \"I want to create a portfolio chatbot that answers questions about my experience and qualifications for a role that I might be applying to\""
   ]
  },
  {
   "cell_type": "markdown",
   "metadata": {},
   "source": [
    "LLM function"
   ]
  },
  {
   "cell_type": "code",
   "execution_count": 4,
   "metadata": {},
   "outputs": [],
   "source": [
    "# Function\n",
    "def llm_call(user_prompt, system_prompt=None, response_model=None):\n",
    "    messages = [\n",
    "        {\"role\": \"user\", \"content\": user_prompt}\n",
    "    ] if system_prompt is None else [\n",
    "        {\"role\": \"system\", \"content\": system_prompt},\n",
    "        {\"role\": \"user\", \"content\": user_prompt},\n",
    "    ]\n",
    "    return client.chat.completions.create(\n",
    "        model=\"gpt-4-turbo-preview\",\n",
    "        response_model=response_model,\n",
    "        messages=messages,\n",
    "    )\n",
    "\n",
    "# Usage:\n",
    "# response = llm_call(\"user prompt\").choices[0].message.content if response_model is None else llm_call(\"user prompt\", response_model=response_model).choices[0].message.content"
   ]
  },
  {
   "cell_type": "code",
   "execution_count": 5,
   "metadata": {},
   "outputs": [
    {
     "data": {
      "text/plain": [
       "'Testing complete! How can I assist you today?'"
      ]
     },
     "execution_count": 5,
     "metadata": {},
     "output_type": "execute_result"
    }
   ],
   "source": [
    "llm_call(\"testing... 1,2,3\").choices[0].message.content"
   ]
  },
  {
   "cell_type": "markdown",
   "metadata": {},
   "source": [
    "### PRD Agent\n",
    "Definition (What?) : Product Requirement Definition"
   ]
  },
  {
   "cell_type": "code",
   "execution_count": 6,
   "metadata": {},
   "outputs": [],
   "source": [
    "def generate_prd_from_file(user_proposal, prd_template_file='../prompts/PRD_TEMPLATE.txt'):\n",
    "    # sourcery skip: inline-immediately-returned-variable\n",
    "    with open(prd_template_file, 'r') as file:\n",
    "        prd_template = file.read()\n",
    "\n",
    "    prd_document = prd_template.format(user_proposal=user_proposal)\n",
    "    return prd_document\n",
    "\n",
    "# Example usage\n",
    "user_proposal = \"I want to create a portfolio chatbot that answers questions about my experience and qualifications for a role that I might be applying to\"\n",
    "prd_template_file = '../prompts/PRD_TEMPLATE.txt'  # Path to your PRD template file\n",
    "# print(generate_prd_from_file(user_proposal, prd_template_file))\n"
   ]
  },
  {
   "cell_type": "code",
   "execution_count": 23,
   "metadata": {},
   "outputs": [
    {
     "name": "stdout",
     "output_type": "stream",
     "text": [
      "To create a portfolio chatbot as proposed, let's outline a Product Requirements Document (PRD) tailored to this project.\n",
      "\n",
      "### Portfolio Chatbot PRD\n",
      "\n",
      "#### Introduction\n",
      "- **Objective/Goal**: Develop an interactive, user-friendly chatbot designed to answer questions regarding an individual's work experience, skills, education, and qualifications relevant to a job role they're applying for. The chatbot aims to provide potential employers or recruiters with insightful, personalized responses, simulating a conversational interview with the candidate.\n",
      "\n",
      "#### Features\n",
      "\n",
      "- **Feature 1: Personalized Responses**\n",
      "  - **Description**: The chatbot will generate personalized responses based on the user's query about the candidate’s experience, skills, and education. It involves processing natural language inputs to provide specific details from the candidate's portfolio.\n",
      "  - **Goal**: To deliver tailored information that represents the candidate effectively, improving engagement with recruiters.\n",
      "  - **Use Case**: A recruiter asks, \"Can you tell me about your experience with project management?\" The chatbot responds with detailed information about relevant experience, highlighting specific roles and achievements.\n",
      "  - **Additional Details**: Responses will be formulated from a structured dataset containing the candidate's portfolio information. Out-of-scope items include answering questions beyond the provided dataset, like speculative scenarios or opinions.\n",
      "\n",
      "- **Feature 2: Interactive Resume Navigation**\n",
      "  - **Description**: The chatbot allows users to navigate the candidate's career timeline, education, and project portfolio interactively.\n",
      "  - **Goal**: Enable users to obtain a comprehensive understanding of the candidate's background in a conversational manner.\n",
      "  - **Use Case**: The user queries, \"Show me the projects from 2021\", and the chatbot presents the relevant projects with summaries.\n",
      "  - **Additional Details**: The chatbot will use menu prompts and keywords to guide the user through the portfolio database.\n",
      "\n",
      "#### UX Flow & Design Notes\n",
      "- **Overview**: The chatbot should maintain a conversational tone, providing a seamless, engaging interaction. It must handle unrecognized queries gracefully, guiding users back to the available information.\n",
      "- **User Workflow**: \n",
      "  - Users initiate the chat with a greeting or direct question.\n",
      "  - The chatbot provides a brief introduction and available commands.\n",
      "  - Users input queries, and the chatbot responds with relevant information.\n",
      "  - Users can follow up or ask new questions, navigating different portfolio sections.\n",
      "- **Design Considerations**: Ensure the chat interface is intuitive, with clear options for users unfamiliar with the candidate's portfolio. Include fallback mechanisms for misunderstood inquiries.\n",
      "\n",
      "#### System & Environment Requirements\n",
      "- **Supported Environments**:\n",
      "  - Browsers: Chrome, Firefox, Safari, Edge\n",
      "  - Operating Systems: Windows 10, macOS, Linux\n",
      "  - Ensures mobile responsiveness for access on smartphones and tablets.\n",
      "\n",
      "#### Assumptions, Constraints & Dependencies\n",
      "- **Assumptions**: \n",
      "  - Users have basic proficiency in using chat interfaces.\n",
      "  \n",
      "- **Constraints**: \n",
      "  - The chatbot will be limited by the comprehensiveness of the input data regarding the candidate's portfolio.\n",
      "  \n",
      "- **Dependencies**: \n",
      "  - Relies on AI Natural Language Processing (NLP) services such as Google's Dialogflow or OpenAI's GPT for interpreting and generating responses.\n",
      "\n",
      "#### Prompt Engineering Practices\n",
      "- **Ambiguity Mitigation**: Refine prompts to include context-specific examples, enhancing the chatbot's accuracy in delivering relevant responses.\n",
      "- **Versioning**: Implement version control for the dataset and scripts, enabling systematic updates and improvements.\n",
      "- **Optimization**: Regularly test and refine the chatbot's responses, ensuring consistency and relevance to the user's queries.\n",
      "\n",
      "#### Task Composability\n",
      "- Incorporate sequential task processing for follow-up questions, allowing users to drill down into details within the same context.\n",
      "\n",
      "#### Review & Approval Process\n",
      "- **Initial Review**: Share with a focus group consisting of HR professionals and potential users for initial feedback.\n",
      "- **Engineering Handoff**: Detail specific technical requirements and dependencies identified during the review phase.\n",
      "- **Final Approval**: Ensure all feedback is addressed, securing sign-off from all stakeholders, including the technical team, project sponsor, and a representative user group.\n",
      "\n",
      "By following this PRS, the development and launch of the portfolio chatbot will be well-structured and focused on providing a valuable tool for job applicants and recruiters alike.\n"
     ]
    }
   ],
   "source": [
    "prd_sys1 = generate_prd_from_file(user_proposal, prd_template_file)\n",
    "prd_response_raw = llm_call(user_prompt=user_proposal, system_prompt=prd_sys1).choices[0].message.content\n",
    "print(prd_response_raw)"
   ]
  },
  {
   "cell_type": "code",
   "execution_count": 8,
   "metadata": {},
   "outputs": [
    {
     "name": "stdout",
     "output_type": "stream",
     "text": [
      "{\n",
      "    \"objective_goal\": \"Develop a chatbot that interacts with potential employers or recruiters by providing detailed responses about your professional experience, qualifications, and any relevant projects or skills related to the role you're applying for. User Proposal: I want to create a portfolio chatbot that answers questions about my experience and qualifications for a role that I might be applying to\",\n",
      "    \"features\": [\n",
      "        {\n",
      "            \"description\": \"The chatbot will leverage NLP to understand and respond to queries about your professional background, skills, qualifications, and work experiences.\",\n",
      "            \"goal\": \"To simulate a real-time conversation with recruiters, offering them a personalized experience.\",\n",
      "            \"use_case\": \"A recruiter inquiring about your experience with Python will receive a detailed answer highlighting your years of experience, projects completed, and the proficiency level.\",\n",
      "            \"additional_details\": \"The chatbot will not require personal user data from the recruiter, focusing solely on professional information.\"\n",
      "        },\n",
      "        {\n",
      "            \"description\": \"Tailor responses based on specific roles or requirements mentioned by the recruiter.\",\n",
      "            \"goal\": \"To emphasize aspects of your portfolio that are most relevant to the position in question.\",\n",
      "            \"use_case\": \"If a recruiter mentions looking for a frontend developer, the chatbot immediately highlights your expertise in HTML, CSS, JavaScript, and relevant projects.\",\n",
      "            \"additional_details\": \"The system will include a mapping mechanism to correlate job roles with specific skills and experiences in your portfolio.\"\n",
      "        }\n",
      "    ],\n",
      "    \"ux_flow_design_notes\": \"The chatbot will be integrated on professional networking sites or personal portfolio pages with an inviting user interface prompting the recruiter to start the dialogue. Users initiate interaction by typing in a question or selecting pre-set queries about your qualifications. The chatbot will then guide the conversation based on the query, asking follow-up questions if necessary. Ensure the chat interface is accessible, intuitive, and does not require extensive technical knowledge to interact with.\",\n",
      "    \"system_environment_requirements\": \"Supported Environments: Browsers: Chrome, Firefox, Safari. Operating Systems: Windows 10, macOS. Mobile responsiveness for access on smartphones and tablets.\",\n",
      "    \"assumptions\": [\n",
      "        \"Recruiters have a basic understanding of how to interact with chatbots.\"\n",
      "    ],\n",
      "    \"constraints\": [\n",
      "        \"The chatbot will rely on accurately updated information to remain relevant.\"\n",
      "    ],\n",
      "    \"dependencies\": [\n",
      "        \"Integration with professional networking platforms for live data updates and LinkedIn APIs for fetching the latest portfolio updates.\"\n",
      "    ],\n",
      "    \"prompt_engineering_practices\": \"Use structured data for the backend portfolio information to streamline clear, specific responses. Implement version control for the chatbot's knowledge base to keep it updated with the newest information. Regularly test the chatbot interaction flows and update based on feedback to improve conversational accuracy and relevance.\",\n",
      "    \"task_composability\": \"The chatbot will handle multiple inquiries in a single session, prioritizing by the sequence of the conversation. Utilize AI conversational agents with integration of filtering tools to select the most relevant portfolio pieces for each question. Implement conditional logic to guide the flow of conversation based on the context and complexity of the inquiries.\",\n",
      "    \"review_approval_process\": \"Initial Review: Your own review of the chatbot's responses to ensure accuracy. Business Side Stakeholders Review: Seek feedback from mentors or colleagues in your industry. Engineering Handoff: Detailed documentation for developers on the team, ensuring they understand the requirements and constraints. Final Approval: Test the chatbot with a group of recruiter contacts for real-world feedback and final adjustments.\"\n",
      "}\n"
     ]
    }
   ],
   "source": [
    "from pydantic import BaseModel\n",
    "from typing import List\n",
    "\n",
    "class Feature(BaseModel):\n",
    "    description: str\n",
    "    goal: str\n",
    "    use_case: str\n",
    "    additional_details: str\n",
    "\n",
    "class PRD(BaseModel):\n",
    "    objective_goal: str\n",
    "    features: List[Feature]\n",
    "    ux_flow_design_notes: str\n",
    "    system_environment_requirements: str\n",
    "    assumptions: List[str]\n",
    "    constraints: List[str]\n",
    "    dependencies: List[str]\n",
    "    prompt_engineering_practices: str\n",
    "    task_composability: str\n",
    "    review_approval_process: str\n",
    "\n",
    "# Example usage with the provided PRD content\n",
    "user_proposal = \"I want to create a portfolio chatbot that answers questions about my experience and qualifications for a role that I might be applying to\"\n",
    "\n",
    "prd_content = PRD(\n",
    "    objective_goal=f\"Develop a chatbot that interacts with potential employers or recruiters by providing detailed responses about your professional experience, qualifications, and any relevant projects or skills related to the role you're applying for. User Proposal: {user_proposal}\",\n",
    "    features=[\n",
    "        Feature(\n",
    "            description=\"The chatbot will leverage NLP to understand and respond to queries about your professional background, skills, qualifications, and work experiences.\",\n",
    "            goal=\"To simulate a real-time conversation with recruiters, offering them a personalized experience.\",\n",
    "            use_case=\"A recruiter inquiring about your experience with Python will receive a detailed answer highlighting your years of experience, projects completed, and the proficiency level.\",\n",
    "            additional_details=\"The chatbot will not require personal user data from the recruiter, focusing solely on professional information.\"\n",
    "        ),\n",
    "        Feature(\n",
    "            description=\"Tailor responses based on specific roles or requirements mentioned by the recruiter.\",\n",
    "            goal=\"To emphasize aspects of your portfolio that are most relevant to the position in question.\",\n",
    "            use_case=\"If a recruiter mentions looking for a frontend developer, the chatbot immediately highlights your expertise in HTML, CSS, JavaScript, and relevant projects.\",\n",
    "            additional_details=\"The system will include a mapping mechanism to correlate job roles with specific skills and experiences in your portfolio.\"\n",
    "        )\n",
    "    ],\n",
    "    ux_flow_design_notes=\"The chatbot will be integrated on professional networking sites or personal portfolio pages with an inviting user interface prompting the recruiter to start the dialogue. Users initiate interaction by typing in a question or selecting pre-set queries about your qualifications. The chatbot will then guide the conversation based on the query, asking follow-up questions if necessary. Ensure the chat interface is accessible, intuitive, and does not require extensive technical knowledge to interact with.\",\n",
    "    system_environment_requirements=\"Supported Environments: Browsers: Chrome, Firefox, Safari. Operating Systems: Windows 10, macOS. Mobile responsiveness for access on smartphones and tablets.\",\n",
    "    assumptions=[\n",
    "        \"Recruiters have a basic understanding of how to interact with chatbots.\"\n",
    "    ],\n",
    "    constraints=[\n",
    "        \"The chatbot will rely on accurately updated information to remain relevant.\"\n",
    "    ],\n",
    "    dependencies=[\n",
    "        \"Integration with professional networking platforms for live data updates and LinkedIn APIs for fetching the latest portfolio updates.\"\n",
    "    ],\n",
    "    prompt_engineering_practices=\"Use structured data for the backend portfolio information to streamline clear, specific responses. Implement version control for the chatbot's knowledge base to keep it updated with the newest information. Regularly test the chatbot interaction flows and update based on feedback to improve conversational accuracy and relevance.\",\n",
    "    task_composability=\"The chatbot will handle multiple inquiries in a single session, prioritizing by the sequence of the conversation. Utilize AI conversational agents with integration of filtering tools to select the most relevant portfolio pieces for each question. Implement conditional logic to guide the flow of conversation based on the context and complexity of the inquiries.\",\n",
    "    review_approval_process=\"Initial Review: Your own review of the chatbot's responses to ensure accuracy. Business Side Stakeholders Review: Seek feedback from mentors or colleagues in your industry. Engineering Handoff: Detailed documentation for developers on the team, ensuring they understand the requirements and constraints. Final Approval: Test the chatbot with a group of recruiter contacts for real-world feedback and final adjustments.\"\n",
    ")\n",
    "\n",
    "print(prd_content.model_dump_json(indent=4))"
   ]
  },
  {
   "cell_type": "code",
   "execution_count": 28,
   "metadata": {},
   "outputs": [
    {
     "name": "stdout",
     "output_type": "stream",
     "text": [
      "objective_goal=\"Create a portfolio chatbot to effectively communicate the user's experience and qualifications relevant to the roles they are applying for.\" features=[Feature(description='Interactive Chat Interface', goal=\"To enable potential employers to engage directly with the chatbot in a conversational manner, asking questions about the user's experience, skills, and qualifications.\", use_case=\"A potential employer visiting the user's portfolio website can initiate a conversation with the chatbot to learn more about the user's professional background and achievements.\", additional_details=\"This feature should support basic natural language processing to understand and respond to a wide range of queries. Out-of-scope items include the chatbot's ability to engage in discussions outside of the predefined portfolio context.\"), Feature(description='Dynamic Content Generation', goal=\"Automatically update the chatbot responses based on the latest achievements and qualifications added to the user's portfolio.\", use_case='When the user updates their portfolio with a new project or certification, the chatbot is immediately able to reference this new information in conversations with employers.', additional_details=\"The system will require a mechanism to regularly update the chatbot's knowledge base without human intervention. Out-of-scope items include instant updates; updates may occur at scheduled intervals.\")] ux_flow_design_notes=\"The chatbot should be seamlessly integrated into the portfolio website with a distinct, easily accessible chat interface. It should be clear to the user what types of questions they can ask the chatbot. The user should be guided through a intuitive flow that encourages exploring the user's qualifications and experience.\" system_environment_requirements='Support for major browsers such as Chrome, Firefox, Safari. Minimal requirements on memory and processing power, ensuring compatibility with a wide range of devices.' assumptions=['All users will have internet connectivity.', 'Users are fluent in English.'] constraints=['The project must be completed within a 3-month timeline.', 'There are budgetary constraints limiting extensive custom development.'] dependencies=[\"Requiring integration with the portfolio website's backend for dynamic content updates.\", 'Dependent on a natural language processing (NLP) service or library.'] prompt_engineering_practices='Optimize prompt clarity to ensure the chatbot accurately understands and responds to a wide range of user queries. Apply techniques to mitigate ambiguity, handle out-of-scope questions gracefully, and improve interaction quality over time through feedback loops and prompt optimization strategies.' task_composability='Utilize modular design for easy updates to chatbot responses and knowledge. Incorporate error handling to manage unexpected inputs or system failures. Design the workflow to include checks for content updates and implement scheduled updates.' review_approval_process='Initial review by the project team for alignment on features and design. Second phase of review by a focus group of potential employers for usability feedback. Final technical review to ensure integration and performance benchmarks are met, followed by stakeholder approval.'\n"
     ]
    }
   ],
   "source": [
    "prd_sys1 = generate_prd_from_file(user_proposal, prd_template_file)\n",
    "prd_class_response = llm_call(user_prompt=user_proposal, system_prompt=prd_sys1, response_model=PRD)\n",
    "print(prd_class_response)"
   ]
  },
  {
   "cell_type": "code",
   "execution_count": 29,
   "metadata": {},
   "outputs": [
    {
     "name": "stdout",
     "output_type": "stream",
     "text": [
      "{\n",
      "    \"objective_goal\": \"Create a portfolio chatbot to effectively communicate the user's experience and qualifications relevant to the roles they are applying for.\",\n",
      "    \"features\": [\n",
      "        {\n",
      "            \"description\": \"Interactive Chat Interface\",\n",
      "            \"goal\": \"To enable potential employers to engage directly with the chatbot in a conversational manner, asking questions about the user's experience, skills, and qualifications.\",\n",
      "            \"use_case\": \"A potential employer visiting the user's portfolio website can initiate a conversation with the chatbot to learn more about the user's professional background and achievements.\",\n",
      "            \"additional_details\": \"This feature should support basic natural language processing to understand and respond to a wide range of queries. Out-of-scope items include the chatbot's ability to engage in discussions outside of the predefined portfolio context.\"\n",
      "        },\n",
      "        {\n",
      "            \"description\": \"Dynamic Content Generation\",\n",
      "            \"goal\": \"Automatically update the chatbot responses based on the latest achievements and qualifications added to the user's portfolio.\",\n",
      "            \"use_case\": \"When the user updates their portfolio with a new project or certification, the chatbot is immediately able to reference this new information in conversations with employers.\",\n",
      "            \"additional_details\": \"The system will require a mechanism to regularly update the chatbot's knowledge base without human intervention. Out-of-scope items include instant updates; updates may occur at scheduled intervals.\"\n",
      "        }\n",
      "    ],\n",
      "    \"ux_flow_design_notes\": \"The chatbot should be seamlessly integrated into the portfolio website with a distinct, easily accessible chat interface. It should be clear to the user what types of questions they can ask the chatbot. The user should be guided through a intuitive flow that encourages exploring the user's qualifications and experience.\",\n",
      "    \"system_environment_requirements\": \"Support for major browsers such as Chrome, Firefox, Safari. Minimal requirements on memory and processing power, ensuring compatibility with a wide range of devices.\",\n",
      "    \"assumptions\": [\n",
      "        \"All users will have internet connectivity.\",\n",
      "        \"Users are fluent in English.\"\n",
      "    ],\n",
      "    \"constraints\": [\n",
      "        \"The project must be completed within a 3-month timeline.\",\n",
      "        \"There are budgetary constraints limiting extensive custom development.\"\n",
      "    ],\n",
      "    \"dependencies\": [\n",
      "        \"Requiring integration with the portfolio website's backend for dynamic content updates.\",\n",
      "        \"Dependent on a natural language processing (NLP) service or library.\"\n",
      "    ],\n",
      "    \"prompt_engineering_practices\": \"Optimize prompt clarity to ensure the chatbot accurately understands and responds to a wide range of user queries. Apply techniques to mitigate ambiguity, handle out-of-scope questions gracefully, and improve interaction quality over time through feedback loops and prompt optimization strategies.\",\n",
      "    \"task_composability\": \"Utilize modular design for easy updates to chatbot responses and knowledge. Incorporate error handling to manage unexpected inputs or system failures. Design the workflow to include checks for content updates and implement scheduled updates.\",\n",
      "    \"review_approval_process\": \"Initial review by the project team for alignment on features and design. Second phase of review by a focus group of potential employers for usability feedback. Final technical review to ensure integration and performance benchmarks are met, followed by stakeholder approval.\"\n",
      "}\n"
     ]
    }
   ],
   "source": [
    "print(prd_class_response.model_dump_json(indent=4))"
   ]
  },
  {
   "cell_type": "markdown",
   "metadata": {},
   "source": [
    "### Making a change to section of the PRD (possibly a v2 feature)"
   ]
  },
  {
   "cell_type": "code",
   "execution_count": 30,
   "metadata": {},
   "outputs": [],
   "source": [
    "import json\n",
    "prd_json = json.loads(prd_class_response.model_dump_json(indent=4))"
   ]
  },
  {
   "cell_type": "code",
   "execution_count": 21,
   "metadata": {},
   "outputs": [
    {
     "name": "stdout",
     "output_type": "stream",
     "text": [
      "### **ux_flow_design_notes**\n",
      "\n",
      "Based on user feedback, it is clear that prioritizing a seamless and intuitive UX flow remains paramount. To enhance users' ability to effortlessly input information and engage with the chatbot, the following adjustments are essential:\n",
      "\n",
      "- **Integration with Chainlit:** The UI will now leverage Chainlit, as it offers robust, user-friendly interfaces that can significantly improve the chatbot interaction experience. For more information, refer to the Chainlit documentation: [Chainlit Overview](https://docs.chainlit.io/get-started/overview).\n",
      "\n",
      "- **Minimalistic Design Philosophy:** Keeping the design minimalistic has been well-received. However, it's crucial to ensure that this simplicity doesn't detract from the user's ability to navigate effectively. The design will maintain its clean aesthetic while enhancing visibility for essential tasks.\n",
      "\n",
      "- **Enhanced Instructions and Feedback:** Users indicated a desire for clearer instructions and immediate feedback on their inputs. In response, the design will now incorporate more intuitive cues for guiding user interaction and real-time feedback mechanisms. This will reassure users that their inputs have been successfully received and understood.\n",
      "\n",
      "- **Customization Features:** Based on feedback, there will be an emphasis on allowing users to customize their interaction paths to some extent. This feature aims to cater to diverse user preferences, making the chatbot feel more personal and adaptable to different needs.\n",
      "\n",
      "- **Accessibility Improvements:** Accessibility remains a core component of the user experience. The interface will be evaluated and adjusted to ensure it meets accessibility standards, enabling all users to navigate and interact with the chatbot efficiently.\n",
      "\n",
      "By emphasizing these updates, the goal is to refine the UX flow, making it even more user-friendly and responsive to the needs and feedback of its users.\n"
     ]
    }
   ],
   "source": [
    "section_to_change_key = \"ux_flow_design_notes\"\n",
    "section_to_change_val = prd_json[\"ux_flow_design_notes\"]\n",
    "\n",
    "# edit info\n",
    "\n",
    "change_template = f\"Change this section, with name: {section_to_change_key}\\nwith content: {section_to_change_val}\\n\\nto reflect user feedback.\\n\\n\"\n",
    "def change_function(change_instruction):\n",
    "    # sourcery skip: inline-immediately-returned-variable\n",
    "    change_instruction_full = change_template + change_instruction\n",
    "    change_response = llm_call(change_instruction_full)\n",
    "    return change_response.choices[0].message.content\n",
    "\n",
    "changed_response = change_function(\"The UI is going to use Chainlit. See link: https://docs.chainlit.io/get-started/overview\")\n",
    "print(changed_response)"
   ]
  },
  {
   "cell_type": "markdown",
   "metadata": {},
   "source": [
    "### Designer Agent\n",
    "Specification (How?) : Engineering/Function"
   ]
  },
  {
   "cell_type": "code",
   "execution_count": 38,
   "metadata": {},
   "outputs": [],
   "source": [
    "designer_prompt = f\"\"\"\n",
    "<System Message>\n",
    "You are a the Engineer/Designer Agent a responsible for creating a functional product.\n",
    "For a given proposal and PRD, write the simplest python script to quickly test your PoC. Only output python code and markdown.\n",
    "</System Message>\n",
    "\\n<>####<>\\n\n",
    "<Context>\n",
    "Proposed PRD:\n",
    "{prd_response_raw}\n",
    "\\n<>####<>\\n\n",
    "Proposed PRD in its pydantic class form:\n",
    "{prd_class_response.model_dump_json(indent=4)}\n",
    "</Context>\n",
    "\\n<>####<>\\n\n",
    "<Original User Proposal>\n",
    "Original User Proposal:\n",
    "{user_proposal}\n",
    "</Original User Proposal>\n",
    "\\n<>####<>\\n\n",
    "<Instruction>\n",
    "Guide the following instructions with the above system message and above context specifications as well as the original user proposal.\n",
    "Write a simple AI application development plan for the user with as few steps as possible. Do not be verbose and explain the plan in an elementary school level.\n",
    "The instructions to develop this Proof of Concept Implementation should only take one engineer about a day or two to complete.\n",
    "Make sure what you are suggesting exist, so for each suggestion think step by step why you are suggesting it and how to find resources for that component.\n",
    "Go to the below link, read it and use it as a reference guide for starting out:\n",
    "https://raw.githubusercontent.com/AI-Maker-Space/Beyond-ChatGPT/main/README.md\n",
    "</Instruction>\n",
    "\\n<>####<>\\n\n",
    "\"\"\""
   ]
  },
  {
   "cell_type": "code",
   "execution_count": 41,
   "metadata": {},
   "outputs": [
    {
     "name": "stdout",
     "output_type": "stream",
     "text": [
      "```python\n",
      "# AI Portfolio Chatbot: Simple Proof of Concept Implementation Plan\n",
      "\n",
      "# Step 1: Environment Setup\n",
      "# - Ensure Python 3.8+ is installed on your machine.\n",
      "# - Install necessary libraries: Flask for web app, requests for API calls, and transformers for NLP.\n",
      "\n",
      "# Step 2: Create a Flask Web Application\n",
      "# - Flask is used to set up an interactive interface for the chatbot.\n",
      "# - Create a basic HTML template to communicate with the chatbot.\n",
      "\n",
      "from flask import Flask, request, jsonify, render_template\n",
      "\n",
      "app = Flask(__name__)\n",
      "\n",
      "# Step 3: Integrate Simple NLP (Natural Language Processing)\n",
      "# - Use Hugging Face's transformers library to utilize a pre-trained NLP model for understanding and generating text.\n",
      "# - This will help parse user queries and formulate responses that resemble conversation.\n",
      "\n",
      "from transformers import pipeline\n",
      "\n",
      "nlp = pipeline(\"text-generation\", model=\"gpt2\")  # A simple model for demo purposes\n",
      "\n",
      "# Step 4: Define the Chatbot's Response Logic\n",
      "# - Implement a function to handle chat input and generate responses.\n",
      "# - This function uses the NLP model to generate a text response based on input.\n",
      "\n",
      "@app.route('/chat', methods=['POST'])\n",
      "def chat_response():\n",
      "    # Simulate fetching data from a structured dataset (could be enhanced to use actual user data)\n",
      "    user_input = request.form['message']\n",
      "    response = nlp(user_input)\n",
      "    \n",
      "    # Simplified for demonstration: Returns the first generated response\n",
      "    return jsonify({\"response\": response[0]['generated_text']})\n",
      "\n",
      "# Step 5: Set up the Frontend\n",
      "# - Create a simple HTML interface for users to interact with the chatbot.\n",
      "# - Use JavaScript to handle sending and receiving messages asynchronously.\n",
      "\n",
      "@app.route('/')\n",
      "def home():\n",
      "    return render_template('chat.html')  # A simple chat interface HTML page\n",
      "\n",
      "# Step 6: Run the Application\n",
      "# - Start the Flask application to serve the chatbot interface.\n",
      "\n",
      "if __name__ == '__main__':\n",
      "    app.run(debug=True)\n",
      "\n",
      "# Note: This is a very basic implementation meant for demonstrating a concept.\n",
      "# Real application development would involve more advanced features, error handling, data management, and security measures.\n",
      "```\n",
      "\n",
      "```markdown\n",
      "# AI Portfolio Chatbot Development Plan\n",
      "\n",
      "## Objective\n",
      "Create a simple AI chatbot prototype that can answer questions about a user's portfolio.\n",
      "\n",
      "## Steps\n",
      "\n",
      "### Step 1: Setup\n",
      "- Install Python and Flask.\n",
      "- Use the `transformers` library for NLP.\n",
      "\n",
      "### Step 2: Create Web App\n",
      "- Build a Flask app to host our chatbot.\n",
      "\n",
      "### Step 3: Integrate NLP\n",
      "- Utilize a pre-trained model from Hugging Face to process and generate responses.\n",
      "\n",
      "### Step 4: Build Response Logic\n",
      "- Write a function in Flask that uses NLP to generate chatbot responses.\n",
      "\n",
      "### Step 5: Setup Frontend\n",
      "- Design a basic HTML chat interface for user interactions.\n",
      "\n",
      "### Step 6: Launch and Test\n",
      "- Run the Flask application and interact with the chatbot through the web interface.\n",
      "```\n",
      "\n",
      "This plan outlines a straightforward approach to creating a functional chatbot prototype. By utilizing Flask for the web application and a pre-trained NLP model, we can set up a basic, interactive chatbot. This proof of concept can be expanded with more sophisticated NLP, a comprehensive dataset of portfolio content, and a refined user interface for a complete solution.\n"
     ]
    }
   ],
   "source": [
    "# Designer Agent Function\n",
    "def designer_agent(designer_prompt):\n",
    "    return llm_call(designer_prompt)\n",
    "\n",
    "designer_output = designer_agent(designer_prompt)\n",
    "print(designer_output.choices[0].message.content)"
   ]
  }
 ],
 "metadata": {
  "kernelspec": {
   "display_name": "ba",
   "language": "python",
   "name": "python3"
  },
  "language_info": {
   "codemirror_mode": {
    "name": "ipython",
    "version": 3
   },
   "file_extension": ".py",
   "mimetype": "text/x-python",
   "name": "python",
   "nbconvert_exporter": "python",
   "pygments_lexer": "ipython3",
   "version": "3.11.9"
  }
 },
 "nbformat": 4,
 "nbformat_minor": 2
}
